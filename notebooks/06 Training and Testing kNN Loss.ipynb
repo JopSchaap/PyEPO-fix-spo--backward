{
 "cells": [
  {
   "cell_type": "markdown",
   "id": "bf4bcab0-0277-4b68-bfee-4c9f4cf1a9ed",
   "metadata": {},
   "source": [
    "## Install (Colab Only)"
   ]
  },
  {
   "cell_type": "code",
   "execution_count": 1,
   "id": "6b682466-d579-4b0f-ace7-da87e0eff6a3",
   "metadata": {},
   "outputs": [
    {
     "name": "stdout",
     "output_type": "stream",
     "text": [
      "Auto-Sklearn cannot be imported.\n"
     ]
    }
   ],
   "source": [
    "# EDIT-kNN: We introduce the following class. When implemented in PyEPO one can simply use pyepo.data.dataset.optDatasetKNN().\n",
    "from scipy.spatial import distance\n",
    "from tqdm import tqdm\n",
    "import time\n",
    "from pyepo.data.dataset import optDataset\n",
    "from pyepo.model.opt import optModel\n",
    "\n",
    "\n",
    "class optDatasetKNN(optDataset):\n",
    "    \"\"\"\n",
    "    This class is Torch Dataset for optimization problems, when using the robust kNN-loss.\n",
    "\n",
    "    Attributes:\n",
    "        model (optModel): Optimization models\n",
    "        k (int): number of nearest neighbours selected\n",
    "        weight (float): weight of kNN-loss\n",
    "        feats (np.ndarray): Data features\n",
    "        costs (np.ndarray): Cost vectors\n",
    "        sols (np.ndarray): Optimal solutions\n",
    "        objs (np.ndarray): Optimal objective values\n",
    "    \"\"\"\n",
    "\n",
    "    def __init__(self, model, feats, costs, k, weight):\n",
    "        \"\"\"\n",
    "        A method to create a optDataset from optModel\n",
    "\n",
    "        Args:\n",
    "            model (optModel): an instance of optModel\n",
    "            feats (np.ndarray): data features\n",
    "            costs (np.ndarray): costs of objective function\n",
    "        \"\"\"\n",
    "        if not isinstance(model, optModel):\n",
    "            raise TypeError(\"arg model is not an optModel\")\n",
    "        self.model = model\n",
    "        # kNN loss parameters\n",
    "        self.k = k\n",
    "        self.weight = weight\n",
    "        # data\n",
    "        self.feats = feats\n",
    "        self.costs = costs\n",
    "        # find optimal solutions\n",
    "        self.sols, self.objs = self._getSols()\n",
    "\n",
    "    def _getSols(self):\n",
    "        \"\"\"\n",
    "        A method to get optimal solutions for all cost vectors\n",
    "        \"\"\"\n",
    "        sols = []\n",
    "        objs = []\n",
    "        print(\"Optimizing for optDataset...\")\n",
    "        time.sleep(1)\n",
    "\n",
    "        costs_knn = np.zeros((*self.costs.shape, self.k))\n",
    "        distances = distance.cdist(self.feats, self.feats, 'euclidean')\n",
    "        indexes = distances.argpartition(self.k)[:, :self.k]\n",
    "        for i in range(self.feats.shape[0]):\n",
    "            knns = indexes[i, :]\n",
    "            random.shuffle(knns)\n",
    "            costs_knn[i, :, :] = self.weight * self.costs[i, :].reshape((-1, 1)) + \\\n",
    "                                   (1 - self.weight) * self.costs[knns, :].T\n",
    "\n",
    "        for c_knn in tqdm(costs_knn):\n",
    "            sol_knn = np.zeros((self.costs.shape[1], self.k))\n",
    "            obj_knn = 0\n",
    "            for i, c in enumerate(c_knn.T):\n",
    "                try:\n",
    "                    sol_i, obj_i = self._solve(c)\n",
    "                except:\n",
    "                    raise ValueError(\n",
    "                        \"For optModel, the method 'solve' should return solution vector and objective value.\"\n",
    "                    )\n",
    "                sol_knn[:, i] = sol_i\n",
    "                obj_knn += obj_i\n",
    "            sol = sol_knn.mean(1)\n",
    "            obj = obj_knn / self.k\n",
    "            sols.append(sol)\n",
    "            objs.append([obj])\n",
    "\n",
    "        self.costs = costs_knn.mean(axis=2)\n",
    "        return np.array(sols), np.array(objs)"
   ]
  },
  {
   "cell_type": "code",
   "execution_count": 2,
   "id": "6a0834bb",
   "metadata": {
    "id": "6a0834bb"
   },
   "outputs": [],
   "source": [
    "# set random seed\n",
    "import random\n",
    "random.seed(42)\n",
    "import numpy as np\n",
    "np.random.seed(42)\n",
    "import torch\n",
    "torch.manual_seed(42)\n",
    "torch.cuda.manual_seed(42)"
   ]
  },
  {
   "cell_type": "code",
   "execution_count": 3,
   "id": "f12bc892-e933-42f9-917b-a4b2004a0d80",
   "metadata": {},
   "outputs": [],
   "source": [
    "# EDIT-kNN: We introduce a function that resets the seeds so we can have the same initialization for the predictive model and data shuffle. \n",
    "# Note that this function is added before every initialization.\n",
    "def set_random_seeds(seed=42):\n",
    "    random.seed(seed)\n",
    "    np.random.seed(seed)\n",
    "    torch.manual_seed(seed)\n",
    "    torch.cuda.manual_seed(seed)"
   ]
  },
  {
   "cell_type": "markdown",
   "id": "65247802",
   "metadata": {
    "id": "65247802"
   },
   "source": [
    "In this tutorial, we will train and test end-to-end predict-then-optimize for different approaches."
   ]
  },
  {
   "cell_type": "markdown",
   "id": "cb28d718",
   "metadata": {
    "id": "cb28d718"
   },
   "source": [
    "## 1 Problem Example: Shortest Path"
   ]
  },
  {
   "cell_type": "markdown",
   "id": "753fb690",
   "metadata": {
    "id": "753fb690"
   },
   "source": [
    "Consider a 5x5 grid network again. The figure shows that each node has top, bottom, left, and right neighbors. We aim to find the shortest path from left top to right bottom."
   ]
  },
  {
   "cell_type": "markdown",
   "id": "5b439ecf",
   "metadata": {
    "id": "5b439ecf"
   },
   "source": [
    "<img src=\"https://github.com/khalil-research/PyEPO/blob/main/images/shortestpath.png?raw=1\" width=\"500\">"
   ]
  },
  {
   "cell_type": "markdown",
   "id": "0e8ecd83",
   "metadata": {
    "id": "0e8ecd83"
   },
   "source": [
    "The weighted graph includes 25 nodes and 40 edges. The weights of the edges are the costs of the path. We load the synthetic dataset where the costs $\\mathbf{c}$ are unknown and can be predicted from features $\\mathbf{x}$.\n",
    "\n",
    "``pyepo.data.shortestpath.genData`` allows us to generate data with various size, polynomial degree, and noise. We can learn more about the dataset [here](https://github.com/khalil-research/PyEPO/blob/main/notebooks/02%20Optimization%20Dataset.ipynb)."
   ]
  },
  {
   "cell_type": "code",
   "execution_count": 4,
   "id": "ae4ba391",
   "metadata": {
    "ExecuteTime": {
     "end_time": "2023-07-03T16:15:30.969643569Z",
     "start_time": "2023-07-03T16:15:30.903584585Z"
    },
    "colab": {
     "base_uri": "https://localhost:8080/"
    },
    "id": "ae4ba391",
    "outputId": "c25d9010-e642-4309-a171-6fd1115be0fd"
   },
   "outputs": [],
   "source": [
    "import pyepo\n",
    "# generate data\n",
    "# EDIT kNN-loss: we change the num_data from 1000 to 100 and deg from 4 to 6 to more clearly show the positive impact of the kNN loss (less training data and more complicated relationship between features and uncertain objective coefficients)\n",
    "grid = (5,5) # grid size\n",
    "num_data = 100 # number of training data \n",
    "num_feat = 5 # size of feature\n",
    "deg = 6 # polynomial degree\n",
    "e = 0.5 # noise width\n",
    "feats, costs = pyepo.data.shortestpath.genData(num_data+1000, num_feat, grid, deg, e, seed=42)"
   ]
  },
  {
   "cell_type": "markdown",
   "id": "8210263f",
   "metadata": {
    "id": "8210263f"
   },
   "source": [
    "Thus, we can use ``optGrbModel`` to build a linear model with the Gurobi solver. For more details on ``optModel``, you can read tutorial [01 Optimization Model\n",
    "](https://github.com/khalil-research/PyEPO/blob/main/notebooks/01%20Optimization%20Model.ipynb) and [documentation](https://khalil-research.github.io/PyEPO/build/html/content/examples/model.html)."
   ]
  },
  {
   "cell_type": "code",
   "execution_count": 5,
   "id": "8d71af1c",
   "metadata": {
    "ExecuteTime": {
     "end_time": "2023-07-03T16:15:34.212005726Z",
     "start_time": "2023-07-03T16:15:34.202712580Z"
    },
    "id": "8d71af1c"
   },
   "outputs": [],
   "source": [
    "# build optModel\n",
    "from pyepo.model.grb import optGrbModel\n",
    "\n",
    "class shortestPathModel(optGrbModel):\n",
    "\n",
    "    def __init__(self):\n",
    "        self.grid = (5,5)\n",
    "        self.arcs = self._getArcs()\n",
    "        super().__init__()\n",
    "\n",
    "    def _getArcs(self):\n",
    "        \"\"\"\n",
    "        A helper method to get list of arcs for grid network\n",
    "\n",
    "        Returns:\n",
    "            list: arcs\n",
    "        \"\"\"\n",
    "        arcs = []\n",
    "        for i in range(self.grid[0]):\n",
    "            # edges on rows\n",
    "            for j in range(self.grid[1] - 1):\n",
    "                v = i * self.grid[1] + j\n",
    "                arcs.append((v, v + 1))\n",
    "            # edges in columns\n",
    "            if i == self.grid[0] - 1:\n",
    "                continue\n",
    "            for j in range(self.grid[1]):\n",
    "                v = i * self.grid[1] + j\n",
    "                arcs.append((v, v + self.grid[1]))\n",
    "        return arcs\n",
    "\n",
    "    def _getModel(self):\n",
    "        \"\"\"\n",
    "        A method to build Gurobi model\n",
    "\n",
    "        Returns:\n",
    "            tuple: optimization model and variables\n",
    "        \"\"\"\n",
    "        import gurobipy as gp\n",
    "        from gurobipy import GRB\n",
    "        # ceate a model\n",
    "        m = gp.Model(\"shortest path\")\n",
    "        # varibles\n",
    "        x = m.addVars(self.arcs, name=\"x\")\n",
    "        # sense\n",
    "        m.modelSense = GRB.MINIMIZE\n",
    "        # flow conservation constraints\n",
    "        for i in range(self.grid[0]):\n",
    "            for j in range(self.grid[1]):\n",
    "                v = i * self.grid[1] + j\n",
    "                expr = 0\n",
    "                for e in self.arcs:\n",
    "                    # flow in\n",
    "                    if v == e[1]:\n",
    "                        expr += x[e]\n",
    "                    # flow out\n",
    "                    elif v == e[0]:\n",
    "                        expr -= x[e]\n",
    "                # source\n",
    "                if i == 0 and j == 0:\n",
    "                    m.addConstr(expr == -1)\n",
    "                # sink\n",
    "                elif i == self.grid[0] - 1 and j == self.grid[0] - 1:\n",
    "                    m.addConstr(expr == 1)\n",
    "                # transition\n",
    "                else:\n",
    "                    m.addConstr(expr == 0)\n",
    "        return m, x"
   ]
  },
  {
   "cell_type": "code",
   "execution_count": 6,
   "id": "29f84eea",
   "metadata": {
    "ExecuteTime": {
     "end_time": "2023-07-03T16:15:38.795439387Z",
     "start_time": "2023-07-03T16:15:38.731606990Z"
    },
    "colab": {
     "base_uri": "https://localhost:8080/"
    },
    "id": "29f84eea",
    "outputId": "1840c83e-ac33-4b13-ae0b-3df1cc9c59b5"
   },
   "outputs": [
    {
     "name": "stdout",
     "output_type": "stream",
     "text": [
      "Set parameter Username\n",
      "Academic license - for non-commercial use only - expires 2024-12-25\n"
     ]
    }
   ],
   "source": [
    "optmodel = shortestPathModel()"
   ]
  },
  {
   "cell_type": "markdown",
   "id": "56225c58",
   "metadata": {
    "id": "56225c58"
   },
   "source": [
    "## 2 Dataset and Data Loader"
   ]
  },
  {
   "cell_type": "markdown",
   "id": "ebed5419",
   "metadata": {
    "id": "ebed5419"
   },
   "source": [
    "PyTorch provides two data primitives: ``Dataset`` and ``DataLoader``, which allow you to use pre-loaded datasets as well as your own data. Dataset stores the samples and their corresponding labels, and DataLoader wraps an iterable around the Dataset to enable easy access to the samples. The PyEPO module ``optDataset`` stores features $\\mathbf{x}$ and costs $\\mathbf{c}$, then computes the corresponding optimal solutions $\\mathbf{w}^*$ and objective values $\\mathbf{z}^*$.\n",
    "\n",
    "More details on ``optDataset`` is [here](https://github.com/khalil-research/PyEPO/blob/main/notebooks/02%20Optimization%20Dataset.ipynb)."
   ]
  },
  {
   "cell_type": "code",
   "execution_count": 7,
   "id": "9988b779",
   "metadata": {
    "ExecuteTime": {
     "end_time": "2023-07-03T16:15:42.978633537Z",
     "start_time": "2023-07-03T16:15:42.964467854Z"
    },
    "id": "9988b779"
   },
   "outputs": [],
   "source": [
    "# split train test data\n",
    "from sklearn.model_selection import train_test_split\n",
    "x_train, x_test, c_train, c_test = train_test_split(feats, costs, test_size=1000, random_state=42)"
   ]
  },
  {
   "cell_type": "code",
   "execution_count": 8,
   "id": "cfcd58dd",
   "metadata": {
    "ExecuteTime": {
     "end_time": "2023-07-03T16:15:49.609217956Z",
     "start_time": "2023-07-03T16:15:45.044754480Z"
    },
    "colab": {
     "base_uri": "https://localhost:8080/"
    },
    "id": "cfcd58dd",
    "outputId": "433e891b-4ab3-4a20-f8d9-cc7c9a9fd1e2"
   },
   "outputs": [
    {
     "name": "stdout",
     "output_type": "stream",
     "text": [
      "Optimizing for optDataset...\n"
     ]
    },
    {
     "name": "stderr",
     "output_type": "stream",
     "text": [
      "100%|███████████████████████████████████████████████████████████████████████████████| 100/100 [00:00<00:00, 715.34it/s]\n"
     ]
    },
    {
     "name": "stdout",
     "output_type": "stream",
     "text": [
      "Optimizing for optDataset...\n"
     ]
    },
    {
     "name": "stderr",
     "output_type": "stream",
     "text": [
      "100%|█████████████████████████████████████████████████████████████████████████████| 1000/1000 [00:01<00:00, 753.88it/s]\n"
     ]
    }
   ],
   "source": [
    "# get optDataset\n",
    "dataset_train = pyepo.data.dataset.optDataset(optmodel, x_train, c_train)\n",
    "dataset_test = pyepo.data.dataset.optDataset(optmodel, x_test, c_test)"
   ]
  },
  {
   "cell_type": "code",
   "execution_count": 9,
   "id": "4fc4bb17",
   "metadata": {
    "ExecuteTime": {
     "end_time": "2023-07-03T16:15:53.145587193Z",
     "start_time": "2023-07-03T16:15:53.135680577Z"
    },
    "id": "4fc4bb17"
   },
   "outputs": [],
   "source": [
    "# set data loader\n",
    "from torch.utils.data import DataLoader\n",
    "batch_size = 32\n",
    "set_random_seeds()  # for the shuffle in DataLoader\n",
    "loader_train = DataLoader(dataset_train, batch_size=batch_size, shuffle=True)\n",
    "loader_test = DataLoader(dataset_test, batch_size=batch_size, shuffle=False)"
   ]
  },
  {
   "cell_type": "markdown",
   "id": "1f8e78c3-0af2-427d-8f6d-7d7c37294ce2",
   "metadata": {},
   "source": [
    "### 2.1 Dataset and Data Loader kNN loss"
   ]
  },
  {
   "cell_type": "markdown",
   "id": "83b0aeea-0e38-4d32-bfb3-e7135be61031",
   "metadata": {},
   "source": [
    "The kNN loss is constructed by using a different estimator for $\\mathbb{E}_{\\mathbf{c} \\sim \\mathcal{C}_{\\mathbf{x}} }[\\mathbf{c}|\\mathbf{x}]$, where normally $\\mathbf{c}$ is used. Additionally, the solutions that are considered optimal are different. In practice this comes down to adjusting $\\mathbf{c}$ and $\\mathbf{w^*}$, which is done by using the class ``optDatasetKNN``. The adjusted dataset can just be used as is for any method. \n",
    "\n",
    "[Schutte, N., Postek, K., & Yorke-Smith, N.(2023). Robust losses for decision-focused learning. arXiv 2310.04328.](https://arxiv.org/abs/)"
   ]
  },
  {
   "cell_type": "code",
   "execution_count": 10,
   "id": "430a39b8-4bdf-455b-a5b4-15074bf940fd",
   "metadata": {},
   "outputs": [
    {
     "name": "stdout",
     "output_type": "stream",
     "text": [
      "Optimizing for optDataset...\n"
     ]
    },
    {
     "name": "stderr",
     "output_type": "stream",
     "text": [
      "100%|████████████████████████████████████████████████████████████████████████████████| 100/100 [00:01<00:00, 74.18it/s]\n"
     ]
    }
   ],
   "source": [
    "# get optDatasetKNN and set kNN data loader\n",
    "dataset_train_knn = optDatasetKNN(optmodel, x_train, c_train, k=10, weight=0.5) # pyepo.data.dataset.optDatasetKNN()\n",
    "set_random_seeds()  # for the shuffle in DataLoader\n",
    "loader_train_knn = DataLoader(dataset_train_knn, batch_size=batch_size, shuffle=True)"
   ]
  },
  {
   "cell_type": "markdown",
   "id": "7cb4edf9",
   "metadata": {
    "id": "7cb4edf9"
   },
   "source": [
    "## 3 Linear Regression on PyTorch"
   ]
  },
  {
   "cell_type": "markdown",
   "id": "f17b53ca",
   "metadata": {
    "id": "f17b53ca"
   },
   "source": [
    "PyTorch is an open-source machine learning library primarily used for developing and training deep learning models such as neural networks. It is developed by Facebook's AI Research lab and is based on the Torch library. PyTorch provides a flexible and intuitive interface for creating and training models.\n",
    "\n",
    "In PyTorch, the ``nn.Module`` is a base class for all neural network modules in the library. It provides a convenient way to organize the layers of a model, and to define the forward pass of the model.\n",
    "\n",
    "Here, we build the simplest PyTorch model, linear regression."
   ]
  },
  {
   "cell_type": "code",
   "execution_count": 11,
   "id": "f7e847e0",
   "metadata": {
    "ExecuteTime": {
     "end_time": "2023-07-03T16:15:57.092548254Z",
     "start_time": "2023-07-03T16:15:57.070646496Z"
    },
    "id": "f7e847e0"
   },
   "outputs": [],
   "source": [
    "from torch import nn\n",
    "\n",
    "# build linear model\n",
    "class LinearRegression(nn.Module):\n",
    "\n",
    "    def __init__(self):\n",
    "        super(LinearRegression, self).__init__()\n",
    "        self.linear = nn.Linear(num_feat, (grid[0]-1)*grid[1]+(grid[1]-1)*grid[0])\n",
    "\n",
    "    def forward(self, x):\n",
    "        out = self.linear(x)\n",
    "        return out"
   ]
  },
  {
   "cell_type": "markdown",
   "id": "1571557e",
   "metadata": {
    "id": "1571557e"
   },
   "source": [
    "Then, we can initialize the predictor."
   ]
  },
  {
   "cell_type": "code",
   "execution_count": 12,
   "id": "3f162584",
   "metadata": {
    "ExecuteTime": {
     "end_time": "2023-07-03T16:16:02.503758931Z",
     "start_time": "2023-07-03T16:16:02.452869940Z"
    },
    "id": "3f162584"
   },
   "outputs": [],
   "source": [
    "import torch\n",
    "# init model\n",
    "reg = LinearRegression()"
   ]
  },
  {
   "cell_type": "markdown",
   "id": "62407a29",
   "metadata": {
    "id": "62407a29"
   },
   "source": [
    "## 4 Training and Testing"
   ]
  },
  {
   "cell_type": "markdown",
   "id": "eebb2ef2",
   "metadata": {
    "id": "eebb2ef2"
   },
   "source": [
    "The core capability of PyEPO is to build optimization models with GurobiPy, Pyomo, or any other solvers and algorithms, then embed the optimization model into an artificial neural network for the end-to-end training. For this purpose, PyEPO implements **SPO+ loss** and **differentiable Black-Box optimizer**, **differentiable perturbed optimizer**, **Fenchel-Young loss with Perturbation**, **Noise Contrastive Estimation**, and **Learning to Rank** as PyTorch autograd modules.\n",
    "\n",
    "We will train and test the above aproaches."
   ]
  },
  {
   "cell_type": "markdown",
   "id": "67152388",
   "metadata": {
    "id": "67152388"
   },
   "source": [
    "### 4.1 Introduction to Metrics"
   ]
  },
  {
   "cell_type": "markdown",
   "id": "3731def8",
   "metadata": {
    "id": "3731def8"
   },
   "source": [
    "``pyepo.metric.regret`` is to evaluate model performance. Regret (also called SPO loss) $l_{Regret}(\\hat{\\mathbf{c}}, \\mathbf{c}) = \\mathbf{c}^T \\mathbf{w}^*_{\\hat{\\mathbf{c}}} - z^*_{\\mathbf{c}}$ aims to measure the error in decision-making. It evaluates the distance between the objective value of the solution from predicted cost $\\hat{\\mathbf{c}}$ and the true optimal objective value $z^*_{c}$."
   ]
  },
  {
   "cell_type": "markdown",
   "id": "01a18cb5",
   "metadata": {
    "id": "01a18cb5"
   },
   "source": [
    "To calculate regret, ``pyepo.metric.regret`` requires:\n",
    "- ``predmodel``: a regression neural network for cost prediction\n",
    "- ``optmodel``: an PyEPO optimization model\n",
    "- ``dataloader``: PyTorch dataloader from optDataset to evaluate\n",
    "\n",
    "The following code block is an example:"
   ]
  },
  {
   "cell_type": "code",
   "execution_count": 13,
   "id": "d92d811a",
   "metadata": {
    "ExecuteTime": {
     "end_time": "2023-07-03T16:16:10.429107030Z",
     "start_time": "2023-07-03T16:16:08.916477331Z"
    },
    "id": "d92d811a"
   },
   "outputs": [],
   "source": [
    "import pyepo\n",
    "regret = pyepo.metric.regret(reg, optmodel, loader_test)"
   ]
  },
  {
   "cell_type": "markdown",
   "id": "dc33c815",
   "metadata": {
    "id": "dc33c815"
   },
   "source": [
    "### 4.2 Functions"
   ]
  },
  {
   "cell_type": "markdown",
   "id": "3860d36b",
   "metadata": {
    "id": "3860d36b"
   },
   "source": [
    "Define function to train model with different methods."
   ]
  },
  {
   "cell_type": "code",
   "execution_count": 14,
   "id": "5f4d57e9",
   "metadata": {
    "id": "5f4d57e9"
   },
   "outputs": [],
   "source": [
    "import time\n",
    "\n",
    "# train model\n",
    "# EDIT-kNN: loader_train is added as an argument to this function\n",
    "def trainModel(reg, loss_func, method_name, loader_train, num_epochs=20, lr=1e-2):\n",
    "    # set adam optimizer\n",
    "    optimizer = torch.optim.Adam(reg.parameters(), lr=lr)\n",
    "    # train mode\n",
    "    reg.train()\n",
    "    # init log\n",
    "    loss_log = []\n",
    "    loss_log_regret = [pyepo.metric.regret(reg, optmodel, loader_test)]\n",
    "    # init elpased time\n",
    "    elapsed = 0\n",
    "    for epoch in range(num_epochs):\n",
    "        # start timing\n",
    "        tick = time.time()\n",
    "        # load data\n",
    "        for i, data in enumerate(loader_train):\n",
    "            x, c, w, z = data\n",
    "            # cuda\n",
    "            if torch.cuda.is_available():\n",
    "                x, c, w, z = x.cuda(), c.cuda(), w.cuda(), z.cuda()\n",
    "            # forward pass\n",
    "            cp = reg(x)\n",
    "            if method_name == \"spo+\":\n",
    "                loss = loss_func(cp, c, w, z)\n",
    "            if method_name in [\"ptb\", \"pfy\", \"imle\", \"nce\", \"cmap\"]:\n",
    "                loss = loss_func(cp, w)\n",
    "            if method_name in [\"dbb\", \"nid\"]:\n",
    "                loss = loss_func(cp, c, z)\n",
    "            if method_name == \"ltr\":\n",
    "                loss = loss_func(cp, c)\n",
    "            # backward pass\n",
    "            optimizer.zero_grad()\n",
    "            loss.backward()\n",
    "            optimizer.step()\n",
    "            # record time\n",
    "            tock = time.time()\n",
    "            elapsed += tock - tick\n",
    "            # log\n",
    "            loss_log.append(loss.item())\n",
    "        regret = pyepo.metric.regret(reg, optmodel, loader_test)\n",
    "        loss_log_regret.append(regret)\n",
    "        print(\"Epoch {:2},  Loss: {:9.4f},  Regret: {:7.4f}%\".format(epoch+1, loss.item(), regret*100))\n",
    "    print(\"Total Elapsed Time: {:.2f} Sec.\".format(elapsed))\n",
    "    return loss_log, loss_log_regret"
   ]
  },
  {
   "cell_type": "markdown",
   "id": "c5d241e8",
   "metadata": {
    "id": "c5d241e8"
   },
   "source": [
    "Define functions that visualize the learning curves."
   ]
  },
  {
   "cell_type": "code",
   "execution_count": 15,
   "id": "0449b18a",
   "metadata": {
    "id": "0449b18a"
   },
   "outputs": [],
   "source": [
    "from matplotlib import pyplot as plt\n",
    "\n",
    "# EDIT-kNN: We adjust this function so we can compare the regular loss with the kNN loss\n",
    "def visLearningCurve(loss_log, loss_log_regret, loss_log_knn, loss_log_regret_knn):\n",
    "    # create figure and subplots\n",
    "    fig, (ax1, ax2) = plt.subplots(1, 2, figsize=(16,4))\n",
    "\n",
    "    # draw plot for training loss\n",
    "    ax1.plot(loss_log, color=\"c\", lw=1, label=\"regular loss\")\n",
    "    ax1.plot(loss_log_knn, color=\"r\", lw=1, label=\"kNN loss\")\n",
    "    ax1.legend()\n",
    "    ax1.tick_params(axis=\"both\", which=\"major\", labelsize=12)\n",
    "    ax1.set_xlabel(\"Iters\", fontsize=16)\n",
    "    ax1.set_ylabel(\"Loss\", fontsize=16)\n",
    "    ax1.set_title(\"Learning Curve on Training Set\", fontsize=16)\n",
    "\n",
    "    # draw plot for regret on test\n",
    "    ax2.plot(loss_log_regret, color=\"royalblue\", ls=\"--\", alpha=0.7, lw=1, label=\"regular loss\")\n",
    "    ax2.plot(loss_log_regret_knn, color=\"orange\", ls=\"--\", alpha=0.7, lw=1, label=\"kNN loss\")\n",
    "    ax2.legend()\n",
    "    ax2.set_xticks(range(0, len(loss_log_regret), 2))\n",
    "    ax2.tick_params(axis=\"both\", which=\"major\", labelsize=12)\n",
    "    ax2.set_ylim(0, 0.5)\n",
    "    ax2.set_xlabel(\"Epochs\", fontsize=16)\n",
    "    ax2.set_ylabel(\"Regret\", fontsize=16)\n",
    "    ax2.set_title(\"Learning Curve on Test Set\", fontsize=16)\n",
    "\n",
    "    plt.show()"
   ]
  },
  {
   "cell_type": "markdown",
   "id": "aaacfd38",
   "metadata": {
    "id": "aaacfd38"
   },
   "source": [
    "### 4.3 Smart Predict-then-Optimize Loss+"
   ]
  },
  {
   "cell_type": "markdown",
   "id": "cba77671",
   "metadata": {
    "id": "cba77671"
   },
   "source": [
    "[Elmachtoub, A. N., & Grigas, P. (2022). Smart “predict, then optimize”. Management Science, 68(1), 9-26.](https://doi.org/10.1287/mnsc.2020.3922)"
   ]
  },
  {
   "cell_type": "markdown",
   "id": "905f8b07",
   "metadata": {
    "id": "905f8b07"
   },
   "source": [
    "SPO+ Loss is a surrogate loss function of SPO Loss (Regret), which measures the decision error of optimization problem. For SPO/SPO+ Loss, the objective function is linear and constraints are known and fixed, but the cost vector need to be predicted from contextual data. The SPO+ Loss is convex with non-zero subgradient. Thus, allows us to design an algorithm based on stochastic gradient descent."
   ]
  },
  {
   "cell_type": "markdown",
   "id": "0c03249b",
   "metadata": {
    "id": "0c03249b"
   },
   "source": [
    "First of all, we initialize the predictor."
   ]
  },
  {
   "cell_type": "code",
   "execution_count": 16,
   "id": "1586bcfe",
   "metadata": {
    "id": "1586bcfe"
   },
   "outputs": [],
   "source": [
    "import torch\n",
    "# init model\n",
    "set_random_seeds()\n",
    "reg = LinearRegression()\n",
    "# cuda\n",
    "if torch.cuda.is_available():\n",
    "    reg = reg.cuda()"
   ]
  },
  {
   "cell_type": "markdown",
   "id": "23d3f88e",
   "metadata": {
    "id": "23d3f88e"
   },
   "source": [
    "``pyepo.func.SPOPlus`` allows us to set a SPO+ loss for training, which requires parameters:\n",
    "- ``optmodel``: an PyEPO optimization model\n",
    "- ``processes``: number of processors for multi-thread, 1 for single-core, 0 for all of cores"
   ]
  },
  {
   "cell_type": "code",
   "execution_count": 17,
   "id": "94f93c65",
   "metadata": {
    "colab": {
     "base_uri": "https://localhost:8080/"
    },
    "id": "94f93c65",
    "outputId": "c163d2c0-bc30-4721-8061-d2701e583657"
   },
   "outputs": [
    {
     "name": "stdout",
     "output_type": "stream",
     "text": [
      "Num of cores: 2\n"
     ]
    }
   ],
   "source": [
    "# init SPO+ loss\n",
    "spop = pyepo.func.SPOPlus(optmodel, processes=2)"
   ]
  },
  {
   "cell_type": "markdown",
   "id": "a6e32619",
   "metadata": {
    "id": "a6e32619"
   },
   "source": [
    "#### Training"
   ]
  },
  {
   "cell_type": "markdown",
   "id": "89fe3311",
   "metadata": {
    "id": "89fe3311"
   },
   "source": [
    "Then, we can train a linear predictor with SPO+ loss to predict unknown cost coefficients and make decisions.\n",
    "\n",
    "To compute SPO+ loss, ``spop`` requires $\\mathbf{\\hat{c}}$, $\\mathbf{c}$, $\\mathbf{w}^*_{\\mathbf{c}}$, and $\\mathbf{z}^*_{\\mathbf{c}}$."
   ]
  },
  {
   "cell_type": "code",
   "execution_count": 18,
   "id": "25c259af",
   "metadata": {
    "colab": {
     "base_uri": "https://localhost:8080/"
    },
    "id": "25c259af",
    "outputId": "2df424e7-a9e8-4b4e-a11a-a06fb4cd6a36"
   },
   "outputs": [
    {
     "name": "stdout",
     "output_type": "stream",
     "text": [
      "Epoch  1,  Loss:    5.0359,  Regret: 71.9485%\n",
      "Epoch  2,  Loss:   12.0402,  Regret: 56.9164%\n",
      "Epoch  3,  Loss:    6.6671,  Regret: 50.7251%\n",
      "Epoch  4,  Loss:    3.5028,  Regret: 43.3899%\n",
      "Epoch  5,  Loss:    1.8355,  Regret: 38.2166%\n",
      "Epoch  6,  Loss:    5.0641,  Regret: 33.9357%\n",
      "Epoch  7,  Loss:    2.1085,  Regret: 29.9810%\n",
      "Epoch  8,  Loss:    2.7521,  Regret: 27.0080%\n",
      "Epoch  9,  Loss:    5.3069,  Regret: 23.3290%\n",
      "Epoch 10,  Loss:    4.1356,  Regret: 19.3708%\n",
      "Epoch 11,  Loss:    1.1268,  Regret: 17.4672%\n",
      "Epoch 12,  Loss:    0.0822,  Regret: 15.9522%\n",
      "Epoch 13,  Loss:    0.0041,  Regret: 15.2568%\n",
      "Epoch 14,  Loss:    1.1693,  Regret: 14.6346%\n",
      "Epoch 15,  Loss:    0.3520,  Regret: 13.4943%\n",
      "Epoch 16,  Loss:    1.7521,  Regret: 12.9266%\n",
      "Epoch 17,  Loss:    3.7367,  Regret: 12.5407%\n",
      "Epoch 18,  Loss:    0.6576,  Regret: 12.4810%\n",
      "Epoch 19,  Loss:    0.5872,  Regret: 12.6556%\n",
      "Epoch 20,  Loss:    0.3384,  Regret: 12.4704%\n",
      "Total Elapsed Time: 26.17 Sec.\n"
     ]
    }
   ],
   "source": [
    "loss_log, loss_log_regret = trainModel(reg, loss_func=spop, method_name=\"spo+\", loader_train=loader_train)"
   ]
  },
  {
   "cell_type": "markdown",
   "id": "9bab9f18-e399-47ac-b085-2ba3f1aca74a",
   "metadata": {
    "id": "aaacfd38"
   },
   "source": [
    "### 4.3-kNN Smart Predict-then-Optimize Loss+\n",
    "We compare the above result with the robust kNN loss.\n",
    "\n",
    "[Schutte, N., Postek, K., & Yorke-Smith, N.(2023). Robust losses for decision-focused learning. arXiv 2310.04328.](https://arxiv.org/abs/)"
   ]
  },
  {
   "cell_type": "markdown",
   "id": "04ec9f01-90e8-4d4c-8c5a-f068e069462e",
   "metadata": {},
   "source": [
    "This loss is applied by considering cost...."
   ]
  },
  {
   "cell_type": "code",
   "execution_count": 19,
   "id": "e4d3b9a0-0ebf-435d-9538-694fb7a969d9",
   "metadata": {},
   "outputs": [],
   "source": [
    "# re-init predictive model\n",
    "set_random_seeds()\n",
    "reg = LinearRegression()\n",
    "# cuda\n",
    "if torch.cuda.is_available():\n",
    "    reg = reg.cuda()"
   ]
  },
  {
   "cell_type": "markdown",
   "id": "8c4b18c6-8f7f-4864-b55f-e81039cbfa9b",
   "metadata": {},
   "source": [
    "##### Training"
   ]
  },
  {
   "cell_type": "code",
   "execution_count": 20,
   "id": "b1e9db6a-cfbc-4f31-b540-55759acf6122",
   "metadata": {},
   "outputs": [
    {
     "name": "stdout",
     "output_type": "stream",
     "text": [
      "Epoch  1,  Loss:    5.5933,  Regret: 72.1863%\n",
      "Epoch  2,  Loss:    9.2213,  Regret: 56.3388%\n",
      "Epoch  3,  Loss:    7.3964,  Regret: 49.4157%\n",
      "Epoch  4,  Loss:    3.1161,  Regret: 42.7951%\n",
      "Epoch  5,  Loss:    2.2075,  Regret: 35.4734%\n",
      "Epoch  6,  Loss:    3.1475,  Regret: 29.5905%\n",
      "Epoch  7,  Loss:    2.3577,  Regret: 23.2559%\n",
      "Epoch  8,  Loss:    1.7597,  Regret: 19.8377%\n",
      "Epoch  9,  Loss:    2.4661,  Regret: 16.4320%\n",
      "Epoch 10,  Loss:    2.8732,  Regret: 14.6887%\n",
      "Epoch 11,  Loss:    0.9549,  Regret: 13.6918%\n",
      "Epoch 12,  Loss:    0.9849,  Regret: 13.1534%\n",
      "Epoch 13,  Loss:    0.9095,  Regret: 12.4352%\n",
      "Epoch 14,  Loss:    0.7576,  Regret: 11.6233%\n",
      "Epoch 15,  Loss:    1.0538,  Regret: 11.3590%\n",
      "Epoch 16,  Loss:    1.6777,  Regret: 10.9949%\n",
      "Epoch 17,  Loss:    2.3862,  Regret: 11.0036%\n",
      "Epoch 18,  Loss:    0.9229,  Regret: 11.2308%\n",
      "Epoch 19,  Loss:    1.0171,  Regret: 11.2080%\n",
      "Epoch 20,  Loss:    1.0610,  Regret: 10.5863%\n",
      "Total Elapsed Time: 10.78 Sec.\n"
     ]
    }
   ],
   "source": [
    "#train\n",
    "loss_log_knn, loss_log_regret_knn = trainModel(reg, loss_func=spop, method_name=\"spo+\", loader_train=loader_train_knn)"
   ]
  },
  {
   "cell_type": "markdown",
   "id": "84305b24-b136-4312-b02b-058dec41f626",
   "metadata": {},
   "source": [
    "#### Learning curve"
   ]
  },
  {
   "cell_type": "code",
   "execution_count": 21,
   "id": "d9b0dee9-ff9f-49fc-b4cb-98b8f80573c1",
   "metadata": {},
   "outputs": [
    {
     "data": {
      "image/png": "[encoded data removed]",
      "text/plain": [
       "<Figure size 1600x400 with 2 Axes>"
      ]
     },
     "metadata": {},
     "output_type": "display_data"
    }
   ],
   "source": [
    "visLearningCurve(loss_log, loss_log_regret, loss_log_knn, loss_log_regret_knn)"
   ]
  },
  {
   "cell_type": "markdown",
   "id": "3dee3614",
   "metadata": {
    "id": "3dee3614"
   },
   "source": [
    "### 4.4 Perturbed Methods"
   ]
  },
  {
   "cell_type": "markdown",
   "id": "89a1a70b",
   "metadata": {
    "id": "89a1a70b"
   },
   "source": [
    "[Berthet, Q., Blondel, M., Teboul, O., Cuturi, M., Vert, J. P., & Bach, F. (2020). Learning with differentiable pertubed optimizers. Advances in neural information processing systems, 33, 9508-9519.](https://papers.nips.cc/paper/2020/hash/6bb56208f672af0dd65451f869fedfd9-Abstract.html)\n",
    "\n",
    "[Niepert, M., Minervini, P., & Franceschi, L. (2021). Implicit MLE: backpropagating through discrete exponential family distributions. Advances in Neural Information Processing Systems, 34, 14567-14579.](https://proceedings.neurips.cc/paper_files/paper/2021/hash/7a430339c10c642c4b2251756fd1b484-Abstract.html)"
   ]
  },
  {
   "cell_type": "markdown",
   "id": "2d230790",
   "metadata": {
    "id": "2d230790"
   },
   "source": [
    "#### 4.4.1 Differentiable Perturbed Optimizer"
   ]
  },
  {
   "cell_type": "markdown",
   "id": "1dc891ad",
   "metadata": {
    "id": "1dc891ad"
   },
   "source": [
    "Differentiable perturbed optimizer uses Monte-Carlo samples to estimate solutions, in which randomly perturbed costs are sampled to optimize. For the perturbed optimizer, the cost vector needs to be predicted from contextual data and are perturbed with Gaussian noise. The perturbed optimizer is differentiable in its inputs with non-zero Jacobian, thus allowing us to design an algorithm based on stochastic gradient descent."
   ]
  },
  {
   "cell_type": "markdown",
   "id": "e5f505f2",
   "metadata": {
    "id": "e5f505f2"
   },
   "source": [
    "First of all, we initialize the predictor."
   ]
  },
  {
   "cell_type": "code",
   "execution_count": 22,
   "id": "97df2499",
   "metadata": {
    "id": "97df2499"
   },
   "outputs": [],
   "source": [
    "import torch\n",
    "# init model\n",
    "set_random_seeds()\n",
    "reg = LinearRegression()\n",
    "# cuda\n",
    "if torch.cuda.is_available():\n",
    "    reg = reg.cuda()"
   ]
  },
  {
   "cell_type": "markdown",
   "id": "bf545748",
   "metadata": {
    "id": "bf545748"
   },
   "source": [
    "``pyepo.func.perturbedOpt`` allows us to set a SPO+ loss for training, which requires parameters:\n",
    "- ``optmodel``: a PyEPO optimization model\n",
    "- ``n_samples``: number of Monte-Carlo samples\n",
    "- ``sigma``:  the amplitude of the perturbation for costs\n",
    "- ``processes``: number of processors for multi-thread, 1 for single-core, 0 for all of the cores\n",
    "- ``seed``: random state seed for perturbations"
   ]
  },
  {
   "cell_type": "markdown",
   "id": "2993c33a",
   "metadata": {
    "id": "2993c33a"
   },
   "source": [
    "Unlike SPO+, PTB is not a loss function so we need to define a loss."
   ]
  },
  {
   "cell_type": "code",
   "execution_count": 23,
   "id": "036ff330",
   "metadata": {
    "colab": {
     "base_uri": "https://localhost:8080/"
    },
    "id": "036ff330",
    "outputId": "efdb808d-5766-4aea-e2c7-8feac8fbe16b"
   },
   "outputs": [
    {
     "name": "stdout",
     "output_type": "stream",
     "text": [
      "Num of cores: 2\n"
     ]
    }
   ],
   "source": [
    "# init ptb solver\n",
    "ptb = pyepo.func.perturbedOpt(optmodel, n_samples=3, sigma=1.0, processes=2)\n",
    "# set loss\n",
    "l1 = nn.L1Loss()\n",
    "\n",
    "# loss function\n",
    "def ptbl1(cp, w):\n",
    "    # perturbed optimizer\n",
    "    we = ptb(cp)\n",
    "    # loss\n",
    "    loss = l1(we, w)\n",
    "    return loss"
   ]
  },
  {
   "cell_type": "markdown",
   "id": "e5adad0e",
   "metadata": {
    "id": "e5adad0e"
   },
   "source": [
    "##### Training"
   ]
  },
  {
   "cell_type": "code",
   "execution_count": 24,
   "id": "303620e3",
   "metadata": {
    "colab": {
     "base_uri": "https://localhost:8080/"
    },
    "id": "303620e3",
    "outputId": "b6e5f141-a1e5-4bdc-b3d6-3bc845d39a8f"
   },
   "outputs": [
    {
     "name": "stdout",
     "output_type": "stream",
     "text": [
      "Epoch  1,  Loss:    0.3000,  Regret: 90.8450%\n",
      "Epoch  2,  Loss:    0.2583,  Regret: 82.2005%\n",
      "Epoch  3,  Loss:    0.2708,  Regret: 76.0367%\n",
      "Epoch  4,  Loss:    0.2750,  Regret: 71.8281%\n",
      "Epoch  5,  Loss:    0.2292,  Regret: 69.7576%\n",
      "Epoch  6,  Loss:    0.2583,  Regret: 68.4686%\n",
      "Epoch  7,  Loss:    0.3083,  Regret: 66.3110%\n",
      "Epoch  8,  Loss:    0.2583,  Regret: 64.4756%\n",
      "Epoch  9,  Loss:    0.2833,  Regret: 63.4242%\n",
      "Epoch 10,  Loss:    0.3167,  Regret: 62.3782%\n",
      "Epoch 11,  Loss:    0.2708,  Regret: 61.4236%\n",
      "Epoch 12,  Loss:    0.2458,  Regret: 61.2837%\n",
      "Epoch 13,  Loss:    0.2125,  Regret: 60.5058%\n",
      "Epoch 14,  Loss:    0.2500,  Regret: 59.2386%\n",
      "Epoch 15,  Loss:    0.2250,  Regret: 57.1980%\n",
      "Epoch 16,  Loss:    0.3125,  Regret: 55.0144%\n",
      "Epoch 17,  Loss:    0.2917,  Regret: 54.0997%\n",
      "Epoch 18,  Loss:    0.3042,  Regret: 52.9587%\n",
      "Epoch 19,  Loss:    0.2542,  Regret: 51.3824%\n",
      "Epoch 20,  Loss:    0.3042,  Regret: 51.2855%\n",
      "Total Elapsed Time: 22.41 Sec.\n"
     ]
    }
   ],
   "source": [
    "loss_log, loss_log_regret = trainModel(reg, loss_func=ptbl1, method_name=\"ptb\", loader_train=loader_train)"
   ]
  },
  {
   "cell_type": "markdown",
   "id": "a22a26f6-e0d0-447a-b9fb-6e3b4655d762",
   "metadata": {},
   "source": [
    "#### 4.4.1-kNN Differentiable Perturbed Optimizer"
   ]
  },
  {
   "cell_type": "code",
   "execution_count": 25,
   "id": "7584199f-bb51-4872-b785-50dfb83ae6e5",
   "metadata": {},
   "outputs": [],
   "source": [
    "# re-init predictive model\n",
    "set_random_seeds()\n",
    "reg = LinearRegression()\n",
    "# cuda\n",
    "if torch.cuda.is_available():\n",
    "    reg = reg.cuda()"
   ]
  },
  {
   "cell_type": "markdown",
   "id": "ea36e405-3fe2-41ff-863e-db872a337429",
   "metadata": {
    "id": "e5adad0e"
   },
   "source": [
    "##### Training"
   ]
  },
  {
   "cell_type": "code",
   "execution_count": 26,
   "id": "37095464-7eaa-481c-80ab-88b5b5e22682",
   "metadata": {},
   "outputs": [
    {
     "name": "stdout",
     "output_type": "stream",
     "text": [
      "Epoch  1,  Loss:    0.2242,  Regret: 92.4406%\n",
      "Epoch  2,  Loss:    0.2325,  Regret: 88.7993%\n",
      "Epoch  3,  Loss:    0.2521,  Regret: 85.3093%\n",
      "Epoch  4,  Loss:    0.2921,  Regret: 83.2264%\n",
      "Epoch  5,  Loss:    0.2379,  Regret: 81.1892%\n",
      "Epoch  6,  Loss:    0.2233,  Regret: 79.5628%\n",
      "Epoch  7,  Loss:    0.2521,  Regret: 75.9468%\n",
      "Epoch  8,  Loss:    0.2650,  Regret: 74.7108%\n",
      "Epoch  9,  Loss:    0.2825,  Regret: 71.3157%\n",
      "Epoch 10,  Loss:    0.2367,  Regret: 70.1690%\n",
      "Epoch 11,  Loss:    0.2533,  Regret: 68.2387%\n",
      "Epoch 12,  Loss:    0.1913,  Regret: 66.5272%\n",
      "Epoch 13,  Loss:    0.2058,  Regret: 65.2204%\n",
      "Epoch 14,  Loss:    0.2242,  Regret: 64.6288%\n",
      "Epoch 15,  Loss:    0.2196,  Regret: 63.8074%\n",
      "Epoch 16,  Loss:    0.2492,  Regret: 63.0083%\n",
      "Epoch 17,  Loss:    0.2708,  Regret: 61.9032%\n",
      "Epoch 18,  Loss:    0.2637,  Regret: 62.8195%\n",
      "Epoch 19,  Loss:    0.2467,  Regret: 63.1410%\n",
      "Epoch 20,  Loss:    0.2408,  Regret: 61.5447%\n",
      "Total Elapsed Time: 20.27 Sec.\n"
     ]
    }
   ],
   "source": [
    "#train\n",
    "loss_log_knn, loss_log_regret_knn = trainModel(reg, loss_func=ptbl1, method_name=\"ptb\", loader_train=loader_train_knn)"
   ]
  },
  {
   "cell_type": "markdown",
   "id": "361067a1-a2d4-4a30-b42e-6825236f5933",
   "metadata": {},
   "source": [
    "##### Learning curve"
   ]
  },
  {
   "cell_type": "code",
   "execution_count": 27,
   "id": "c578deb6-0ab9-4686-b75f-ab41f89971bc",
   "metadata": {},
   "outputs": [
    {
     "data": {
      "image/png": "[encoded data removed]",
      "text/plain": [
       "<Figure size 1600x400 with 2 Axes>"
      ]
     },
     "metadata": {},
     "output_type": "display_data"
    }
   ],
   "source": [
    "visLearningCurve(loss_log, loss_log_regret, loss_log_knn, loss_log_regret_knn)"
   ]
  },
  {
   "cell_type": "markdown",
   "id": "e0b7d864",
   "metadata": {
    "id": "e0b7d864"
   },
   "source": [
    "#### 4.4.2 Perturbed Fenchel-Young Loss"
   ]
  },
  {
   "cell_type": "markdown",
   "id": "3d918b9e",
   "metadata": {
    "id": "3d918b9e"
   },
   "source": [
    "Perturbed Fenchel-Young loss (PYFL) uses perturbation techniques with Monte-Carlo samples. The use of the loss improves the algorithmic by the specific expression of the gradients of the loss. For the perturbed optimizer, the cost vector need to be predicted from contextual data and are perturbed with Gaussian noise. The Fenchel-Young loss allows to directly optimize a loss between the features and solutions with less computation. Thus, allows us to design an algorithm based on stochastic gradient descent."
   ]
  },
  {
   "cell_type": "markdown",
   "id": "5b20cf56",
   "metadata": {
    "id": "5b20cf56"
   },
   "source": [
    "First of all, we initialize the predictor."
   ]
  },
  {
   "cell_type": "code",
   "execution_count": 28,
   "id": "8353c159",
   "metadata": {
    "id": "8353c159"
   },
   "outputs": [],
   "source": [
    "import torch\n",
    "# init model\n",
    "set_random_seeds()\n",
    "reg = LinearRegression()\n",
    "# cuda\n",
    "if torch.cuda.is_available():\n",
    "    reg = reg.cuda()"
   ]
  },
  {
   "cell_type": "markdown",
   "id": "89ad1b86",
   "metadata": {
    "id": "89ad1b86"
   },
   "source": [
    "``pyepo.func.perturbedFenchelYoung`` allows us to set a Fenchel-Young loss for training, which requires parameters:\n",
    "- ``optmodel``: a PyEPO optimization model\n",
    "- ``n_samples``: number of Monte-Carlo samples\n",
    "- ``sigma``:  the amplitude of the perturbation for costs\n",
    "- ``processes``: number of processors for multi-thread, 1 for single-core, 0 for all of the cores\n",
    "- ``seed``: random state seed for perturbations"
   ]
  },
  {
   "cell_type": "code",
   "execution_count": 29,
   "id": "8e1ba873",
   "metadata": {
    "colab": {
     "base_uri": "https://localhost:8080/"
    },
    "id": "8e1ba873",
    "outputId": "3e5dcef9-697b-44b0-e1ac-f631b1d12562"
   },
   "outputs": [
    {
     "name": "stdout",
     "output_type": "stream",
     "text": [
      "Num of cores: 2\n"
     ]
    }
   ],
   "source": [
    "# init pfyl loss\n",
    "pfy = pyepo.func.perturbedFenchelYoung(optmodel, n_samples=3, sigma=1.0, processes=2)"
   ]
  },
  {
   "cell_type": "markdown",
   "id": "95ababe4",
   "metadata": {
    "id": "95ababe4"
   },
   "source": [
    "##### Training"
   ]
  },
  {
   "cell_type": "markdown",
   "id": "b6deb950",
   "metadata": {
    "id": "b6deb950"
   },
   "source": [
    "Then, we can train a linear predictor with Fenchel-Young loss to predict unknown cost coefficients and make decisions.\n",
    "\n",
    "To compute Fenchel-Young loss, ``pfy`` requires $\\mathbf{\\hat{c}}$ and $\\mathbf{w}^*_{\\mathbf{c}}$."
   ]
  },
  {
   "cell_type": "code",
   "execution_count": 30,
   "id": "cc50c3d8",
   "metadata": {
    "colab": {
     "base_uri": "https://localhost:8080/"
    },
    "id": "cc50c3d8",
    "outputId": "1b0decae-2119-41ca-daec-ac20cb3da6c1",
    "scrolled": true
   },
   "outputs": [
    {
     "name": "stdout",
     "output_type": "stream",
     "text": [
      "Epoch  1,  Loss:    7.7778,  Regret: 75.6514%\n",
      "Epoch  2,  Loss:    6.6111,  Regret: 60.8966%\n",
      "Epoch  3,  Loss:    7.0000,  Regret: 54.6219%\n",
      "Epoch  4,  Loss:    5.9444,  Regret: 49.0937%\n",
      "Epoch  5,  Loss:    4.4444,  Regret: 44.5430%\n",
      "Epoch  6,  Loss:    5.2778,  Regret: 40.3864%\n",
      "Epoch  7,  Loss:    6.0000,  Regret: 36.2984%\n",
      "Epoch  8,  Loss:    4.1667,  Regret: 31.6202%\n",
      "Epoch  9,  Loss:    3.4444,  Regret: 29.3768%\n",
      "Epoch 10,  Loss:    5.9444,  Regret: 26.2524%\n",
      "Epoch 11,  Loss:    6.6667,  Regret: 22.4361%\n",
      "Epoch 12,  Loss:    3.5000,  Regret: 20.7487%\n",
      "Epoch 13,  Loss:    2.7222,  Regret: 18.6456%\n",
      "Epoch 14,  Loss:    6.0000,  Regret: 17.9597%\n",
      "Epoch 15,  Loss:    1.6111,  Regret: 16.6212%\n",
      "Epoch 16,  Loss:    6.2778,  Regret: 15.7344%\n",
      "Epoch 17,  Loss:    2.2778,  Regret: 15.1592%\n",
      "Epoch 18,  Loss:    5.5556,  Regret: 15.0467%\n",
      "Epoch 19,  Loss:    3.6111,  Regret: 14.4118%\n",
      "Epoch 20,  Loss:    5.5556,  Regret: 14.2661%\n",
      "Total Elapsed Time: 20.90 Sec.\n"
     ]
    }
   ],
   "source": [
    "loss_log, loss_log_regret = trainModel(reg, loss_func=pfy, method_name=\"pfy\", loader_train=loader_train)"
   ]
  },
  {
   "cell_type": "markdown",
   "id": "712410c8-4044-4242-b198-b839a0f8d815",
   "metadata": {},
   "source": [
    "#### 4.4.2-kNN Perturbed Fenchel-Young Loss"
   ]
  },
  {
   "cell_type": "code",
   "execution_count": 31,
   "id": "554a9380-2c6b-43f5-a855-8e5512dc58db",
   "metadata": {},
   "outputs": [],
   "source": [
    "# re-init predictive model\n",
    "set_random_seeds()\n",
    "reg = LinearRegression()\n",
    "# cuda\n",
    "if torch.cuda.is_available():\n",
    "    reg = reg.cuda()"
   ]
  },
  {
   "cell_type": "markdown",
   "id": "eddfc94e-581a-49dd-885c-1441f850b439",
   "metadata": {},
   "source": [
    "##### Training"
   ]
  },
  {
   "cell_type": "code",
   "execution_count": 32,
   "id": "6a93f941-0cb7-41fa-9510-ec0e5f25ee58",
   "metadata": {},
   "outputs": [
    {
     "name": "stdout",
     "output_type": "stream",
     "text": [
      "Epoch  1,  Loss:    4.7328,  Regret: 75.5687%\n",
      "Epoch  2,  Loss:    4.0333,  Regret: 62.7238%\n",
      "Epoch  3,  Loss:    3.6917,  Regret: 54.9157%\n",
      "Epoch  4,  Loss:    5.3789,  Regret: 47.9986%\n",
      "Epoch  5,  Loss:    2.3906,  Regret: 41.8803%\n",
      "Epoch  6,  Loss:    2.6472,  Regret: 34.5509%\n",
      "Epoch  7,  Loss:    4.1406,  Regret: 28.8017%\n",
      "Epoch  8,  Loss:    2.5328,  Regret: 24.2020%\n",
      "Epoch  9,  Loss:    3.1756,  Regret: 20.4229%\n",
      "Epoch 10,  Loss:    3.0200,  Regret: 18.0219%\n",
      "Epoch 11,  Loss:    3.8944,  Regret: 17.4609%\n",
      "Epoch 12,  Loss:    1.8983,  Regret: 16.2418%\n",
      "Epoch 13,  Loss:    3.7161,  Regret: 16.0148%\n",
      "Epoch 14,  Loss:    2.1656,  Regret: 15.1927%\n",
      "Epoch 15,  Loss:    1.3394,  Regret: 14.3942%\n",
      "Epoch 16,  Loss:    2.5789,  Regret: 13.7226%\n",
      "Epoch 17,  Loss:    2.1422,  Regret: 12.4166%\n",
      "Epoch 18,  Loss:    1.0767,  Regret: 11.9338%\n",
      "Epoch 19,  Loss:    1.8750,  Regret: 11.5197%\n",
      "Epoch 20,  Loss:    1.2972,  Regret: 11.3173%\n",
      "Total Elapsed Time: 20.17 Sec.\n"
     ]
    }
   ],
   "source": [
    "loss_log_knn, loss_log_regret_knn = trainModel(reg, loss_func=pfy, method_name=\"pfy\", loader_train=loader_train_knn)"
   ]
  },
  {
   "cell_type": "markdown",
   "id": "1e2e03ba-f9af-419f-9c25-b82ebb7f5616",
   "metadata": {},
   "source": [
    "##### Learning Curve"
   ]
  },
  {
   "cell_type": "code",
   "execution_count": 33,
   "id": "715317e7-8b31-4273-ac6f-cbd5eb03651c",
   "metadata": {},
   "outputs": [
    {
     "data": {
      "image/png": "[encoded data removed]",
      "text/plain": [
       "<Figure size 1600x400 with 2 Axes>"
      ]
     },
     "metadata": {},
     "output_type": "display_data"
    }
   ],
   "source": [
    "visLearningCurve(loss_log, loss_log_regret, loss_log_knn, loss_log_regret_knn)"
   ]
  },
  {
   "cell_type": "markdown",
   "id": "IK-MVo0s5xET",
   "metadata": {
    "id": "IK-MVo0s5xET"
   },
   "source": [
    "#### 4.4.3 Implicit Maximum Likelihood Estimator"
   ]
  },
  {
   "cell_type": "markdown",
   "id": "tRJDHUEH5zoN",
   "metadata": {
    "id": "tRJDHUEH5zoN"
   },
   "source": [
    "Implicit Maximum Likelihood Estimator (I-MLE) use the perturb-and-MAP framework. They sample noise from a Sum-of-Gamma distribution and interpolate the loss function to approximate finite difference."
   ]
  },
  {
   "cell_type": "markdown",
   "id": "yWi85vkE5_EE",
   "metadata": {
    "id": "yWi85vkE5_EE"
   },
   "source": [
    "First of all, we initialize the predictor."
   ]
  },
  {
   "cell_type": "code",
   "execution_count": 34,
   "id": "FDhj882n5z0s",
   "metadata": {
    "id": "FDhj882n5z0s"
   },
   "outputs": [],
   "source": [
    "import torch\n",
    "# init model\n",
    "set_random_seeds()\n",
    "reg = LinearRegression()\n",
    "# cuda\n",
    "if torch.cuda.is_available():\n",
    "    reg = reg.cuda()"
   ]
  },
  {
   "cell_type": "markdown",
   "id": "drLpLVGO6gP_",
   "metadata": {
    "id": "drLpLVGO6gP_"
   },
   "source": [
    "``pyepo.func.implicitMLE`` allows us to set a Fenchel-Young loss for training, which requires parameters:\n",
    "- ``optmodel``: a PyEPO optimization model\n",
    "- ``n_samples``: number of Monte-Carlo samples\n",
    "- ``sigma``:  the amplitude of the perturbation for costs\n",
    "- ``lambd``: a hyperparameter for differentiable block-box to control interpolation degree\n",
    "- ``distribution``: noise distribution\n",
    "- ``processes``: number of processors for multi-thread, 1 for single-core, 0 for all of the cores\n",
    "- ``seed``: random state seed for perturbations"
   ]
  },
  {
   "cell_type": "code",
   "execution_count": 35,
   "id": "YiRPpUYx6Dtl",
   "metadata": {
    "colab": {
     "base_uri": "https://localhost:8080/"
    },
    "id": "YiRPpUYx6Dtl",
    "outputId": "4c1d1ee7-2402-485f-ee69-31e95b6b7783"
   },
   "outputs": [
    {
     "name": "stdout",
     "output_type": "stream",
     "text": [
      "Num of cores: 2\n"
     ]
    }
   ],
   "source": [
    "# init i-mle solver\n",
    "imle = pyepo.func.implicitMLE(optmodel, n_samples=10, sigma=1.0, lambd=10, processes=2)\n",
    "# set loss\n",
    "l1 = nn.L1Loss()\n",
    "\n",
    "# loss function\n",
    "def ilmel1(cp, w):\n",
    "    # perturbed optimizer\n",
    "    we = imle(cp)\n",
    "    # loss\n",
    "    loss = l1(we, w)\n",
    "    return loss"
   ]
  },
  {
   "cell_type": "markdown",
   "id": "c6SV0HSi7mKJ",
   "metadata": {
    "id": "c6SV0HSi7mKJ"
   },
   "source": [
    "##### Training"
   ]
  },
  {
   "cell_type": "code",
   "execution_count": null,
   "id": "-M2cSiLF7odY",
   "metadata": {
    "colab": {
     "base_uri": "https://localhost:8080/"
    },
    "id": "-M2cSiLF7odY",
    "outputId": "42b67641-6ad3-47ec-fc55-bed5558ae00d"
   },
   "outputs": [
    {
     "name": "stdout",
     "output_type": "stream",
     "text": [
      "Epoch  1,  Loss:    0.2213,  Regret: 92.5368%\n",
      "Epoch  2,  Loss:    0.2537,  Regret: 83.8083%\n",
      "Epoch  3,  Loss:    0.2250,  Regret: 74.0873%\n",
      "Epoch  4,  Loss:    0.2575,  Regret: 65.0459%\n",
      "Epoch  5,  Loss:    0.2013,  Regret: 59.2700%\n",
      "Epoch  6,  Loss:    0.2337,  Regret: 55.6731%\n",
      "Epoch  7,  Loss:    0.2900,  Regret: 52.6408%\n",
      "Epoch  8,  Loss:    0.1675,  Regret: 51.0003%\n",
      "Epoch  9,  Loss:    0.2800,  Regret: 49.5259%\n",
      "Epoch 10,  Loss:    0.2412,  Regret: 50.1684%\n",
      "Epoch 11,  Loss:    0.2062,  Regret: 50.2624%\n"
     ]
    }
   ],
   "source": [
    "loss_log, loss_log_regret = trainModel(reg, loss_func=ilmel1, method_name=\"imle\", loader_train=loader_train)"
   ]
  },
  {
   "cell_type": "markdown",
   "id": "4da442b2-3d51-4a53-aed7-78d7a601d869",
   "metadata": {},
   "source": [
    "#### 4.4.3-kNN Implicit Maximum Likelihood Estimator"
   ]
  },
  {
   "cell_type": "code",
   "execution_count": null,
   "id": "8de89429-0a15-488b-960e-2b6dad5ba627",
   "metadata": {},
   "outputs": [],
   "source": [
    "# re-init predictive model\n",
    "set_random_seeds()\n",
    "reg = LinearRegression()\n",
    "# cuda\n",
    "if torch.cuda.is_available():\n",
    "    reg = reg.cuda()"
   ]
  },
  {
   "cell_type": "markdown",
   "id": "a7324948-f956-4e09-a570-65f9dcb0ab81",
   "metadata": {},
   "source": [
    "##### Training"
   ]
  },
  {
   "cell_type": "code",
   "execution_count": null,
   "id": "c9f203a0-d1d1-4ac3-acf9-d3bf3847b4d9",
   "metadata": {},
   "outputs": [],
   "source": [
    "loss_log_knn, loss_log_regret_knn = trainModel(reg, loss_func=ilmel1, method_name=\"imle\", loader_train=loader_train_knn)"
   ]
  },
  {
   "cell_type": "markdown",
   "id": "0921a408-7346-4df5-9150-54c0fab44211",
   "metadata": {},
   "source": [
    "##### Learning Curve"
   ]
  },
  {
   "cell_type": "code",
   "execution_count": null,
   "id": "c49996a6-cdc7-4921-a361-98ded6cbc217",
   "metadata": {},
   "outputs": [],
   "source": [
    "visLearningCurve(loss_log, loss_log_regret, loss_log_knn, loss_log_regret_knn)"
   ]
  },
  {
   "cell_type": "markdown",
   "id": "3098e8bc",
   "metadata": {
    "id": "3098e8bc"
   },
   "source": [
    "### 4.5 Black-Box Methods"
   ]
  },
  {
   "cell_type": "markdown",
   "id": "qWtP5Ih4doL0",
   "metadata": {
    "id": "qWtP5Ih4doL0"
   },
   "source": [
    "#### 4.5.1 Differentiable Black-Box Optimizer"
   ]
  },
  {
   "cell_type": "markdown",
   "id": "e36b38d3",
   "metadata": {
    "id": "e36b38d3"
   },
   "source": [
    "[Pogančić, M. V., Paulus, A., Musil, V., Martius, G., & Rolinek, M. (2020). Differentiation of blackbox combinatorial solvers. In International Conference on Learning Representations.](https://arxiv.org/abs/1912.02175)"
   ]
  },
  {
   "cell_type": "markdown",
   "id": "e4360852",
   "metadata": {
    "id": "e4360852"
   },
   "source": [
    "Differentiable black-box optimizer estimates gradients from interpolation, replacing the zero gradients. For differentiable block-box, the objective function is linear and constraints are known and fixed, but the cost vector need to be predicted from contextual data."
   ]
  },
  {
   "cell_type": "markdown",
   "id": "012b0fe5",
   "metadata": {
    "id": "012b0fe5"
   },
   "source": [
    "First of all, we initialize the predictor"
   ]
  },
  {
   "cell_type": "code",
   "execution_count": null,
   "id": "96ce18e8",
   "metadata": {
    "id": "96ce18e8"
   },
   "outputs": [],
   "source": [
    "import torch\n",
    "# init model\n",
    "set_random_seeds()\n",
    "reg = LinearRegression()\n",
    "# cuda\n",
    "if torch.cuda.is_available():\n",
    "    reg = reg.cuda()"
   ]
  },
  {
   "cell_type": "markdown",
   "id": "6e91a091",
   "metadata": {
    "id": "6e91a091"
   },
   "source": [
    "``pyepo.func.blackboxOpt`` allows us to set a differentiable solver, which requires parameters:\n",
    "- ``optmodel``: a PyEPO optimization model\n",
    "- ``lambd``: a parameter to contral interpolation degree\n",
    "- ``processes``: number of processors for multi-thread, 1 for single-core, 0 for all of the cores"
   ]
  },
  {
   "cell_type": "code",
   "execution_count": null,
   "id": "8cbb1806",
   "metadata": {
    "colab": {
     "base_uri": "https://localhost:8080/"
    },
    "id": "8cbb1806",
    "outputId": "3d3b011f-5f54-41c7-997b-859c2f82a8f9"
   },
   "outputs": [],
   "source": [
    "# init dbb solver\n",
    "dbb = pyepo.func.blackboxOpt(optmodel, lambd=20, processes=2)\n",
    "# set loss\n",
    "l1 = nn.L1Loss()\n",
    "\n",
    "# loss function\n",
    "def dbbl1(cp, c, z):\n",
    "    # black-box optimizer\n",
    "    wp = dbb(cp)\n",
    "    # objective value\n",
    "    zp = (wp * c).sum(1).view(-1, 1)\n",
    "    # loss\n",
    "    loss = l1(zp, z)\n",
    "    return loss"
   ]
  },
  {
   "cell_type": "markdown",
   "id": "c4053880",
   "metadata": {
    "id": "c4053880"
   },
   "source": [
    "##### Training"
   ]
  },
  {
   "cell_type": "code",
   "execution_count": null,
   "id": "6acc5d3f",
   "metadata": {
    "colab": {
     "base_uri": "https://localhost:8080/"
    },
    "id": "6acc5d3f",
    "outputId": "776e1664-f312-4a36-d68d-f49f1697175d"
   },
   "outputs": [],
   "source": [
    "loss_log, loss_log_regret = trainModel(reg, loss_func=dbbl1, method_name=\"dbb\", loader_train=loader_train)"
   ]
  },
  {
   "cell_type": "markdown",
   "id": "f6393fc8-7287-4d03-9d4a-88c8f671f72c",
   "metadata": {},
   "source": [
    "#### 4.5.1-kNN Differentiable Black-Box Optimizer"
   ]
  },
  {
   "cell_type": "code",
   "execution_count": null,
   "id": "ec81dcec-2a05-4316-b8c7-4bd556210dba",
   "metadata": {},
   "outputs": [],
   "source": [
    "# re-init predictive model\n",
    "set_random_seeds()\n",
    "reg = LinearRegression()\n",
    "# cuda\n",
    "if torch.cuda.is_available():\n",
    "    reg = reg.cuda()"
   ]
  },
  {
   "cell_type": "markdown",
   "id": "9e9943a8-976c-4559-ab62-7c3d8776f02f",
   "metadata": {},
   "source": [
    "##### Training"
   ]
  },
  {
   "cell_type": "code",
   "execution_count": null,
   "id": "3f02e78a-e25e-43be-a561-c4a3fc720366",
   "metadata": {},
   "outputs": [],
   "source": [
    "loss_log_knn, loss_log_regret_knn = trainModel(reg, loss_func=dbbl1, method_name=\"dbb\", loader_train=loader_train_knn)"
   ]
  },
  {
   "cell_type": "markdown",
   "id": "860bfaf0-d2ac-4a9d-9e85-c3ba5e3de2be",
   "metadata": {},
   "source": [
    "##### Learning Curve"
   ]
  },
  {
   "cell_type": "code",
   "execution_count": null,
   "id": "cdb5fb75-7e89-4923-b5a2-2925e7016384",
   "metadata": {},
   "outputs": [],
   "source": [
    "visLearningCurve(loss_log, loss_log_regret, loss_log_knn, loss_log_regret_knn)"
   ]
  },
  {
   "cell_type": "markdown",
   "id": "N1BOfVSxd1Pl",
   "metadata": {
    "id": "N1BOfVSxd1Pl"
   },
   "source": [
    "#### 4.5.2 Negative Identity Backpropagation (NID)"
   ]
  },
  {
   "cell_type": "markdown",
   "id": "15lg0xVrd1Ps",
   "metadata": {
    "id": "15lg0xVrd1Ps"
   },
   "source": [
    "[Sahoo, S. S., Paulus, A., Vlastelica, M., Musil, V., Kuleshov, V., & Martius, G. (2022). Backpropagation through combinatorial algorithms: Identity with projection works. arXiv preprint arXiv:2205.15213.](https://arxiv.org/abs/2205.15213)"
   ]
  },
  {
   "cell_type": "markdown",
   "id": "qZ8jtTHkd1Ps",
   "metadata": {
    "id": "qZ8jtTHkd1Ps"
   },
   "source": [
    "Negative Identity Backpropagation (NID) treats the solver as a negative identity mapping during the backward pass, which is equivalent to DBB with certain hyperparameter. It is hyperparameter-free and does not require any additional computationally expensive call to the solver on the backward pass."
   ]
  },
  {
   "cell_type": "markdown",
   "id": "3YfO0smjd1Ps",
   "metadata": {
    "id": "3YfO0smjd1Ps"
   },
   "source": [
    "First of all, we initialize the predictor"
   ]
  },
  {
   "cell_type": "code",
   "execution_count": null,
   "id": "kP9IVVpUd1Ps",
   "metadata": {
    "id": "kP9IVVpUd1Ps"
   },
   "outputs": [],
   "source": [
    "import torch\n",
    "# init model\n",
    "set_random_seeds()\n",
    "reg = LinearRegression()\n",
    "# cuda\n",
    "if torch.cuda.is_available():\n",
    "    reg = reg.cuda()"
   ]
  },
  {
   "cell_type": "markdown",
   "id": "kkNDsLbmd1Ps",
   "metadata": {
    "id": "kkNDsLbmd1Ps"
   },
   "source": [
    "``pyepo.func.blackboxOpt`` allows us to set a differentiable solver, which requires parameters:\n",
    "- ``optmodel``: a PyEPO optimization model\n",
    "- ``processes``: number of processors for multi-thread, 1 for single-core, 0 for all of the cores"
   ]
  },
  {
   "cell_type": "code",
   "execution_count": null,
   "id": "MdJz4Oi2d1Ps",
   "metadata": {
    "colab": {
     "base_uri": "https://localhost:8080/"
    },
    "id": "MdJz4Oi2d1Ps",
    "outputId": "23f0d2db-3fae-41b7-cc46-54ae85592361"
   },
   "outputs": [],
   "source": [
    "# init dbb solver\n",
    "nid = pyepo.func.negativeIdentity(optmodel, processes=2)\n",
    "# set loss\n",
    "l1 = nn.L1Loss()\n",
    "\n",
    "# loss function\n",
    "def nidl1(cp, c, z):\n",
    "    # black-box optimizer\n",
    "    wp = nid(cp)\n",
    "    # objective value\n",
    "    zp = (wp * c).sum(1).view(-1, 1)\n",
    "    # loss\n",
    "    loss = l1(zp, z)\n",
    "    return loss"
   ]
  },
  {
   "cell_type": "markdown",
   "id": "FZqOwcRsd1Pt",
   "metadata": {
    "id": "FZqOwcRsd1Pt"
   },
   "source": [
    "##### Training"
   ]
  },
  {
   "cell_type": "code",
   "execution_count": null,
   "id": "rXKg0nkVd1Pt",
   "metadata": {
    "colab": {
     "base_uri": "https://localhost:8080/"
    },
    "id": "rXKg0nkVd1Pt",
    "outputId": "95dc59ad-18dc-4b2e-e92d-1e85a937a58b"
   },
   "outputs": [],
   "source": [
    "loss_log, loss_log_regret = trainModel(reg, loss_func=nidl1, method_name=\"nid\", loader_train=loader_train)"
   ]
  },
  {
   "cell_type": "markdown",
   "id": "6af437e1-4a14-4743-9423-885363839a68",
   "metadata": {},
   "source": [
    "#### 4.5.2-kNN Negative Identity Backpropagation (NID)"
   ]
  },
  {
   "cell_type": "code",
   "execution_count": null,
   "id": "4e52e166-5616-4d4d-b6bd-13a3bc6ebc07",
   "metadata": {},
   "outputs": [],
   "source": [
    "# re-init predictive model\n",
    "set_random_seeds()\n",
    "reg = LinearRegression()\n",
    "# cuda\n",
    "if torch.cuda.is_available():\n",
    "    reg = reg.cuda()"
   ]
  },
  {
   "cell_type": "markdown",
   "id": "b94c71f6-47c7-4fee-b0e2-f093a798d52e",
   "metadata": {},
   "source": [
    "##### Training"
   ]
  },
  {
   "cell_type": "code",
   "execution_count": null,
   "id": "0a2a6c8c-e855-473b-9714-d14084a43b5b",
   "metadata": {},
   "outputs": [],
   "source": [
    "loss_log_knn, loss_log_regret_knn = trainModel(reg, loss_func=nidl1, method_name=\"nid\", loader_train=loader_train_knn)"
   ]
  },
  {
   "cell_type": "markdown",
   "id": "xtIcL5EXd1Pt",
   "metadata": {
    "id": "xtIcL5EXd1Pt"
   },
   "source": [
    "##### Learning Curve"
   ]
  },
  {
   "cell_type": "code",
   "execution_count": null,
   "id": "9046e771-a8e8-4aee-94ee-5ff83963693d",
   "metadata": {},
   "outputs": [],
   "source": [
    "visLearningCurve(loss_log, loss_log_regret, loss_log_knn, loss_log_regret_knn)"
   ]
  },
  {
   "cell_type": "markdown",
   "id": "0e74c152",
   "metadata": {
    "id": "0e74c152"
   },
   "source": [
    "### 4.6 Contrastive Estimation"
   ]
  },
  {
   "cell_type": "markdown",
   "id": "8b9a1d00",
   "metadata": {
    "id": "8b9a1d00"
   },
   "source": [
    "[Mulamba, M., Mandi, J., Diligenti, M., Lombardi, M., Bucarey, V., & Guns, T. (2021). Contrastive losses and solution caching for predict-and-optimize. Proceedings of the Thirtieth International Joint Conference on Artificial Intelligence.](https://www.ijcai.org/proceedings/2021/390)"
   ]
  },
  {
   "cell_type": "markdown",
   "id": "7fdca6a1",
   "metadata": {
    "id": "7fdca6a1"
   },
   "source": [
    "#### 4.6.1 Noise Contrastive Estimation"
   ]
  },
  {
   "cell_type": "markdown",
   "id": "7eaab10b",
   "metadata": {
    "id": "7eaab10b"
   },
   "source": [
    "It uses a noise contrastive approach to motivate a family of surrogate loss functions, based on viewing non-optimal solutions as negative examples. For the NCE, the cost vector needs to be predicted from contextual data and maximizes the separation of the probability of the optimal solution."
   ]
  },
  {
   "cell_type": "markdown",
   "id": "5b407567",
   "metadata": {
    "id": "5b407567"
   },
   "source": [
    "First of all, we initialize the predictor"
   ]
  },
  {
   "cell_type": "code",
   "execution_count": null,
   "id": "b447a5f7",
   "metadata": {
    "id": "b447a5f7"
   },
   "outputs": [],
   "source": [
    "import torch\n",
    "# init model\n",
    "set_random_seeds()\n",
    "reg = LinearRegression()\n",
    "# cuda\n",
    "if torch.cuda.is_available():\n",
    "    reg = reg.cuda()"
   ]
  },
  {
   "cell_type": "markdown",
   "id": "841c0a44",
   "metadata": {
    "id": "841c0a44"
   },
   "source": [
    "``pyepo.func.NCE`` allows us to use a noise contrastive estimiation loss for training, which requires parameters:\n",
    "- ``optmodel``: an PyEPO optimization model\n",
    "- ``processes``: number of processors for multi-thread, 1 for single-core, 0 for all of cores\n",
    "- ``solve_ratio``: the ratio of new solutions computed during training\n",
    "- ``dataset``: a dataset to initialize the solution pool with. Usually this is simply the training set"
   ]
  },
  {
   "cell_type": "code",
   "execution_count": null,
   "id": "19fc8c2b",
   "metadata": {
    "colab": {
     "base_uri": "https://localhost:8080/"
    },
    "id": "19fc8c2b",
    "outputId": "eded7368-f3a9-4bc5-b2e4-50e2b62f1aba"
   },
   "outputs": [],
   "source": [
    "nce = pyepo.func.NCE(optmodel, processes=2, solve_ratio=0.05, dataset=dataset_train)"
   ]
  },
  {
   "cell_type": "markdown",
   "id": "0b831428",
   "metadata": {
    "id": "0b831428"
   },
   "source": [
    "##### Training"
   ]
  },
  {
   "cell_type": "markdown",
   "id": "4e15a116",
   "metadata": {
    "id": "4e15a116"
   },
   "source": [
    "To compute noise contrastive estimation loss, ``nce`` requires $\\mathbf{\\hat{c}}$ and $\\mathbf{w}^*_{\\mathbf{c}}$."
   ]
  },
  {
   "cell_type": "code",
   "execution_count": null,
   "id": "b863fea1",
   "metadata": {
    "colab": {
     "base_uri": "https://localhost:8080/"
    },
    "id": "b863fea1",
    "outputId": "4968fce7-be31-47c5-e0e5-b9666c660eda"
   },
   "outputs": [],
   "source": [
    "loss_log, loss_log_regret = trainModel(reg, loss_func=nce, method_name=\"nce\", loader_train=loader_train)"
   ]
  },
  {
   "cell_type": "markdown",
   "id": "0e502d4d-cd99-48db-af5f-274d00ff4ef1",
   "metadata": {},
   "source": [
    "#### 4.6.1-kNN Noise Contrastive Estimation"
   ]
  },
  {
   "cell_type": "code",
   "execution_count": null,
   "id": "0c406c4b-a566-403a-ba18-c31c6dc11958",
   "metadata": {},
   "outputs": [],
   "source": [
    "# re-init predictive model\n",
    "set_random_seeds()\n",
    "reg = LinearRegression()\n",
    "# cuda\n",
    "if torch.cuda.is_available():\n",
    "    reg = reg.cuda()"
   ]
  },
  {
   "cell_type": "markdown",
   "id": "56f7ce92-9575-486d-9e0b-f60ad1d422db",
   "metadata": {},
   "source": [
    "##### Training"
   ]
  },
  {
   "cell_type": "code",
   "execution_count": null,
   "id": "75efecea-bc12-462c-bded-6b5c006632cd",
   "metadata": {},
   "outputs": [],
   "source": [
    "loss_log_knn, loss_log_regret_knn = trainModel(reg, loss_func=nce, method_name=\"nce\", loader_train=loader_train_knn)"
   ]
  },
  {
   "cell_type": "markdown",
   "id": "8f879771",
   "metadata": {
    "id": "8f879771"
   },
   "source": [
    "##### Learning Curve"
   ]
  },
  {
   "cell_type": "code",
   "execution_count": null,
   "id": "28228e56-fbd3-408d-b1d1-8a835f3118e5",
   "metadata": {},
   "outputs": [],
   "source": [
    "visLearningCurve(loss_log, loss_log_regret, loss_log_knn, loss_log_regret_knn)"
   ]
  },
  {
   "cell_type": "markdown",
   "id": "75e35693",
   "metadata": {
    "id": "75e35693"
   },
   "source": [
    "#### 4.6.2 Maximum A Posterior"
   ]
  },
  {
   "cell_type": "markdown",
   "id": "4aa00bb7",
   "metadata": {
    "id": "4aa00bb7"
   },
   "source": [
    "An autograd module for Maximum A Posterior contrastive estimation as surrogate loss functions, which is a efficient self-contrastive algorithm. For the MAP, the cost vector needs to be predicted from contextual data and maximizes the separation of the probability of the optimal solution."
   ]
  },
  {
   "cell_type": "markdown",
   "id": "b09586e6",
   "metadata": {
    "id": "b09586e6"
   },
   "source": [
    "First of all, we initialize the predictor"
   ]
  },
  {
   "cell_type": "code",
   "execution_count": null,
   "id": "52152357",
   "metadata": {
    "id": "52152357"
   },
   "outputs": [],
   "source": [
    "import torch\n",
    "# init model\n",
    "set_random_seeds()\n",
    "reg = LinearRegression()\n",
    "# cuda\n",
    "if torch.cuda.is_available():\n",
    "    reg = reg.cuda()"
   ]
  },
  {
   "cell_type": "markdown",
   "id": "8319d359",
   "metadata": {
    "id": "8319d359"
   },
   "source": [
    "``pyepo.func.contrastiveMAP`` allows us to use a noise contrastive estimiation loss for training, which requires parameters:\n",
    "- ``optmodel``: an PyEPO optimization model\n",
    "- ``processes``: number of processors for multi-thread, 1 for single-core, 0 for all of cores\n",
    "- ``solve_ratio``: the ratio of new solutions computed during training\n",
    "- ``dataset``: a dataset to initialize the solution pool with. Usually this is simply the training set"
   ]
  },
  {
   "cell_type": "code",
   "execution_count": null,
   "id": "0b960707",
   "metadata": {
    "colab": {
     "base_uri": "https://localhost:8080/"
    },
    "id": "0b960707",
    "outputId": "b23a7909-b227-4353-8f3b-1a1e36a75db8"
   },
   "outputs": [],
   "source": [
    "cmap = pyepo.func.contrastiveMAP(optmodel, processes=2, solve_ratio=0.05, dataset=dataset_train)"
   ]
  },
  {
   "cell_type": "markdown",
   "id": "b060aa52",
   "metadata": {
    "id": "b060aa52"
   },
   "source": [
    "##### Training"
   ]
  },
  {
   "cell_type": "markdown",
   "id": "6929f837",
   "metadata": {
    "id": "6929f837"
   },
   "source": [
    "To compute Maximum A Posterior contrastive estimation loss, ``cmap`` requires $\\mathbf{\\hat{c}}$ and $\\mathbf{w}^*_{\\mathbf{c}}$."
   ]
  },
  {
   "cell_type": "code",
   "execution_count": null,
   "id": "3ef81b1a",
   "metadata": {
    "colab": {
     "base_uri": "https://localhost:8080/"
    },
    "id": "3ef81b1a",
    "outputId": "ff37dea8-4381-426b-903f-152b5c3fed4f"
   },
   "outputs": [],
   "source": [
    "loss_log, loss_log_regret = trainModel(reg, loss_func=cmap, method_name=\"cmap\", loader_train=loader_train)"
   ]
  },
  {
   "cell_type": "markdown",
   "id": "5ebdb412-bff5-4498-99c1-e0155473d326",
   "metadata": {},
   "source": [
    "#### 4.6.2-kNN Maximum A Posterior"
   ]
  },
  {
   "cell_type": "code",
   "execution_count": null,
   "id": "44f65111-8976-4cd1-88c4-914170b0be8a",
   "metadata": {},
   "outputs": [],
   "source": [
    "# re-init predictive model\n",
    "set_random_seeds()\n",
    "reg = LinearRegression()\n",
    "# cuda\n",
    "if torch.cuda.is_available():\n",
    "    reg = reg.cuda()"
   ]
  },
  {
   "cell_type": "markdown",
   "id": "473dc8a2-7d03-438f-b073-1f1c6f5d7bf2",
   "metadata": {},
   "source": [
    "##### Training"
   ]
  },
  {
   "cell_type": "code",
   "execution_count": null,
   "id": "3793e09d-74b4-4945-8b80-86284fa4a7ff",
   "metadata": {},
   "outputs": [],
   "source": [
    "loss_log_knn, loss_log_regret_knn = trainModel(reg, loss_func=cmap, method_name=\"cmap\", loader_train=loader_train_knn)"
   ]
  },
  {
   "cell_type": "markdown",
   "id": "108fd0a4",
   "metadata": {
    "id": "108fd0a4"
   },
   "source": [
    "##### Learning Curve"
   ]
  },
  {
   "cell_type": "code",
   "execution_count": null,
   "id": "dbe4dea4-4567-47b9-ab72-2ab370762d15",
   "metadata": {},
   "outputs": [],
   "source": [
    "visLearningCurve(loss_log, loss_log_regret, loss_log_knn, loss_log_regret_knn)"
   ]
  },
  {
   "cell_type": "markdown",
   "id": "6abb4845",
   "metadata": {
    "id": "6abb4845"
   },
   "source": [
    "### 4.7 Learning To Rank"
   ]
  },
  {
   "cell_type": "markdown",
   "id": "5cd0621d",
   "metadata": {
    "id": "5cd0621d"
   },
   "source": [
    "[Mandi, J., Bucarey, V., Mulamba, M., & Guns, T. (2022). Decision-focused learning: through the lens of learning to rank. Proceedings of the 39th International Conference on Machine Learning.](https://proceedings.mlr.press/v162/mandi22a.html)"
   ]
  },
  {
   "cell_type": "markdown",
   "id": "6bbc75cb",
   "metadata": {
    "id": "6bbc75cb"
   },
   "source": [
    "#### 4.7.1 Listwise Learning To Rank"
   ]
  },
  {
   "cell_type": "markdown",
   "id": "2327a93b",
   "metadata": {
    "id": "2327a93b"
   },
   "source": [
    "A autograd module for listwise learning to rank, where the goal is to learn an objective function that ranks a pool of feasible solutions correctly. For the listwise LTR, the cost vector needs to be predicted from contextual data, and the loss measures the scores of the whole ranked lists."
   ]
  },
  {
   "cell_type": "markdown",
   "id": "4c8046eb",
   "metadata": {
    "id": "4c8046eb"
   },
   "source": [
    "First of all, we initialize the predictor"
   ]
  },
  {
   "cell_type": "code",
   "execution_count": null,
   "id": "602505a8",
   "metadata": {
    "ExecuteTime": {
     "end_time": "2023-07-03T16:16:24.267717164Z",
     "start_time": "2023-07-03T16:16:18.452617457Z"
    },
    "id": "602505a8"
   },
   "outputs": [],
   "source": [
    "import torch\n",
    "# init model\n",
    "set_random_seeds()\n",
    "reg = LinearRegression()\n",
    "# cuda\n",
    "if torch.cuda.is_available():\n",
    "    reg = reg.cuda()"
   ]
  },
  {
   "cell_type": "markdown",
   "id": "89c56904",
   "metadata": {
    "id": "89c56904"
   },
   "source": [
    "``pyepo.func.listwiseLTR`` allows us to use a listwise learning to rank loss for training, which requires parameters:\n",
    "- ``optmodel``: an PyEPO optimization model\n",
    "- ``processes``: number of processors for multi-thread, 1 for single-core, 0 for all of cores\n",
    "- ``solve_ratio``: the ratio of new solutions computed during training\n",
    "- ``dataset``: a dataset to initialize the solution pool with. Usually this is simply the training set"
   ]
  },
  {
   "cell_type": "code",
   "execution_count": null,
   "id": "6b33d585",
   "metadata": {
    "ExecuteTime": {
     "end_time": "2023-07-03T16:16:27.478976953Z",
     "start_time": "2023-07-03T16:16:27.473935240Z"
    },
    "colab": {
     "base_uri": "https://localhost:8080/"
    },
    "id": "6b33d585",
    "outputId": "50805803-5293-4d68-f487-5458d8780c14"
   },
   "outputs": [],
   "source": [
    "lsltr = pyepo.func.listwiseLTR(optmodel, processes=2, solve_ratio=0.05, dataset=dataset_train)"
   ]
  },
  {
   "cell_type": "markdown",
   "id": "e8d837cc",
   "metadata": {
    "id": "e8d837cc"
   },
   "source": [
    "##### Training"
   ]
  },
  {
   "cell_type": "markdown",
   "id": "32cb0d1d",
   "metadata": {
    "id": "32cb0d1d"
   },
   "source": [
    "To compute learning-to-rank loss, ``lsltr`` requires $\\mathbf{\\hat{c}}$ and $\\mathbf{c}$."
   ]
  },
  {
   "cell_type": "code",
   "execution_count": null,
   "id": "fa65886a",
   "metadata": {
    "ExecuteTime": {
     "end_time": "2023-07-03T16:17:01.763318176Z",
     "start_time": "2023-07-03T16:16:32.516958317Z"
    },
    "colab": {
     "base_uri": "https://localhost:8080/"
    },
    "id": "fa65886a",
    "outputId": "18f83a70-32bb-40ea-fff9-96a2a02d8dfb"
   },
   "outputs": [],
   "source": [
    "loss_log, loss_log_regret = trainModel(reg, loss_func=lsltr, method_name=\"ltr\", loader_train=loader_train)"
   ]
  },
  {
   "cell_type": "markdown",
   "id": "c11f71a4-90d0-467c-abaa-92d0e4b90ab5",
   "metadata": {},
   "source": [
    "#### 4.7.1-kNN Listwise Learning To Rank"
   ]
  },
  {
   "cell_type": "code",
   "execution_count": null,
   "id": "927e1645-2ea8-49d4-a0c0-77f49dff4c70",
   "metadata": {},
   "outputs": [],
   "source": [
    "# re-init predictive model\n",
    "set_random_seeds()\n",
    "reg = LinearRegression()\n",
    "# cuda\n",
    "if torch.cuda.is_available():\n",
    "    reg = reg.cuda()"
   ]
  },
  {
   "cell_type": "markdown",
   "id": "c8568d90-c3bc-45b1-9f5a-5c1e62129472",
   "metadata": {},
   "source": [
    "##### Training"
   ]
  },
  {
   "cell_type": "code",
   "execution_count": null,
   "id": "26d6077e-7943-4c4d-aa1a-109f7e13d798",
   "metadata": {},
   "outputs": [],
   "source": [
    "loss_log_knn, loss_log_regret_knn = trainModel(reg, loss_func=lsltr, method_name=\"ltr\", loader_train=loader_train_knn)"
   ]
  },
  {
   "cell_type": "markdown",
   "id": "3f0dd4c7",
   "metadata": {
    "id": "3f0dd4c7"
   },
   "source": [
    "##### Learning Curve"
   ]
  },
  {
   "cell_type": "code",
   "execution_count": null,
   "id": "9b60b5a3-9a31-491d-a374-63992f38bc63",
   "metadata": {},
   "outputs": [],
   "source": [
    "visLearningCurve(loss_log, loss_log_regret, loss_log_knn, loss_log_regret_knn)"
   ]
  },
  {
   "cell_type": "markdown",
   "id": "bf527d34",
   "metadata": {
    "id": "bf527d34"
   },
   "source": [
    "#### 4.7.2 Pairwise Learning To Rank"
   ]
  },
  {
   "cell_type": "markdown",
   "id": "7477432c",
   "metadata": {
    "id": "7477432c"
   },
   "source": [
    "An autograd module for pairwise learning to rank, where the goal is to learn an objective function that ranks a pool of feasible solutions correctly. For the pairwise LTR, the cost vector needs to be predicted from contextual data, and the loss learns the relative ordering of pairs of items."
   ]
  },
  {
   "cell_type": "markdown",
   "id": "ea1cde2b",
   "metadata": {
    "id": "ea1cde2b"
   },
   "source": [
    "First of all, we initialize the predictor"
   ]
  },
  {
   "cell_type": "code",
   "execution_count": null,
   "id": "af18ca38",
   "metadata": {
    "ExecuteTime": {
     "end_time": "2023-07-03T16:16:24.267717164Z",
     "start_time": "2023-07-03T16:16:18.452617457Z"
    },
    "id": "af18ca38"
   },
   "outputs": [],
   "source": [
    "import torch\n",
    "# init model\n",
    "set_random_seeds()\n",
    "reg = LinearRegression()\n",
    "# cuda\n",
    "if torch.cuda.is_available():\n",
    "    reg = reg.cuda()"
   ]
  },
  {
   "cell_type": "markdown",
   "id": "27d7caf5",
   "metadata": {
    "id": "27d7caf5"
   },
   "source": [
    "``pyepo.func.pairwiseLTR`` allows us to use a listwise learning to rank loss for training, which requires parameters:\n",
    "- ``optmodel``: an PyEPO optimization model\n",
    "- ``processes``: number of processors for multi-thread, 1 for single-core, 0 for all of cores\n",
    "- ``solve_ratio``: the ratio of new solutions computed during training\n",
    "- ``dataset``: a dataset to initialize the solution pool with. Usually this is simply the training set."
   ]
  },
  {
   "cell_type": "code",
   "execution_count": null,
   "id": "72ff1275",
   "metadata": {
    "ExecuteTime": {
     "end_time": "2023-07-03T16:16:27.478976953Z",
     "start_time": "2023-07-03T16:16:27.473935240Z"
    },
    "colab": {
     "base_uri": "https://localhost:8080/"
    },
    "id": "72ff1275",
    "outputId": "b9e3205f-c080-4686-eed0-30eb8a521fd9"
   },
   "outputs": [],
   "source": [
    "prltr = pyepo.func.pairwiseLTR(optmodel, processes=2, solve_ratio=0.05, dataset=dataset_train)"
   ]
  },
  {
   "cell_type": "markdown",
   "id": "2eb36db3",
   "metadata": {
    "id": "2eb36db3"
   },
   "source": [
    "##### Training"
   ]
  },
  {
   "cell_type": "markdown",
   "id": "4850ca91",
   "metadata": {
    "id": "4850ca91"
   },
   "source": [
    "To compute learning-to-rank loss, ``prltr`` requires $\\mathbf{\\hat{c}}$ and $\\mathbf{c}$."
   ]
  },
  {
   "cell_type": "code",
   "execution_count": null,
   "id": "120e76ad",
   "metadata": {
    "ExecuteTime": {
     "end_time": "2023-07-03T16:17:01.763318176Z",
     "start_time": "2023-07-03T16:16:32.516958317Z"
    },
    "colab": {
     "base_uri": "https://localhost:8080/"
    },
    "id": "120e76ad",
    "outputId": "91415ffc-0f79-4443-f820-7e933d2ed97c"
   },
   "outputs": [],
   "source": [
    "loss_log, loss_log_regret = trainModel(reg, loss_func=prltr, method_name=\"ltr\", loader_train=loader_train)"
   ]
  },
  {
   "cell_type": "markdown",
   "id": "7078715f-b394-480a-a88b-e7403b548f87",
   "metadata": {},
   "source": [
    "#### 4.7.2-kNN Pairwise Learning To Rank"
   ]
  },
  {
   "cell_type": "code",
   "execution_count": null,
   "id": "ee8abffb-ffef-4aa5-b314-6563128cfca0",
   "metadata": {},
   "outputs": [],
   "source": [
    "# re-init predictive model\n",
    "set_random_seeds()\n",
    "reg = LinearRegression()\n",
    "# cuda\n",
    "if torch.cuda.is_available():\n",
    "    reg = reg.cuda()"
   ]
  },
  {
   "cell_type": "markdown",
   "id": "99ade727-53b3-4c03-a420-3a5f5b9648c3",
   "metadata": {},
   "source": [
    "##### Training"
   ]
  },
  {
   "cell_type": "code",
   "execution_count": null,
   "id": "51937e68-33bd-46a8-aaf1-78a20ebf27de",
   "metadata": {},
   "outputs": [],
   "source": [
    "loss_log_knn, loss_log_regret_knn = trainModel(reg, loss_func=prltr, method_name=\"ltr\", loader_train=loader_train_knn)"
   ]
  },
  {
   "cell_type": "markdown",
   "id": "9ddef1bb",
   "metadata": {
    "id": "9ddef1bb"
   },
   "source": [
    "##### Learning Curve"
   ]
  },
  {
   "cell_type": "code",
   "execution_count": null,
   "id": "86255b9a-db9a-465f-af38-7b06ef9d0d63",
   "metadata": {},
   "outputs": [],
   "source": [
    "visLearningCurve(loss_log, loss_log_regret, loss_log_knn, loss_log_regret_knn)"
   ]
  },
  {
   "cell_type": "markdown",
   "id": "cb42db37",
   "metadata": {
    "id": "cb42db37"
   },
   "source": [
    "#### 4.7.3 Pointwise Learning To Rank"
   ]
  },
  {
   "cell_type": "markdown",
   "id": "ab4fef25",
   "metadata": {
    "id": "ab4fef25"
   },
   "source": [
    "An autograd module for pointwise learning to rank, where the goal is to learn an objective function that ranks a pool of feasible solutions correctly. For the pointwise LTR, the cost vector needs to be predicted from contextual data, and calculates the ranking scores of the items."
   ]
  },
  {
   "cell_type": "markdown",
   "id": "7b5081d9",
   "metadata": {
    "id": "7b5081d9"
   },
   "source": [
    "First of all, we initialize the predictor"
   ]
  },
  {
   "cell_type": "code",
   "execution_count": null,
   "id": "b478099f",
   "metadata": {
    "ExecuteTime": {
     "end_time": "2023-07-03T16:16:24.267717164Z",
     "start_time": "2023-07-03T16:16:18.452617457Z"
    },
    "id": "b478099f"
   },
   "outputs": [],
   "source": [
    "import torch\n",
    "# init model\n",
    "set_random_seeds()\n",
    "reg = LinearRegression()\n",
    "# cuda\n",
    "if torch.cuda.is_available():\n",
    "    reg = reg.cuda()"
   ]
  },
  {
   "cell_type": "markdown",
   "id": "05dea9c7",
   "metadata": {
    "id": "05dea9c7"
   },
   "source": [
    "``pyepo.func.pointwiseLTR`` allows us to use a listwise learning to rank loss for training, which requires parameters:\n",
    "- ``optmodel``: an PyEPO optimization model\n",
    "- ``processes``: number of processors for multi-thread, 1 for single-core, 0 for all of cores\n",
    "- ``solve_ratio``: the ratio of new solutions computed during training\n",
    "- ``dataset``: a dataset to initialize the solution pool with. Usually this is simply the training set"
   ]
  },
  {
   "cell_type": "code",
   "execution_count": null,
   "id": "6680ac57",
   "metadata": {
    "ExecuteTime": {
     "end_time": "2023-07-03T16:16:27.478976953Z",
     "start_time": "2023-07-03T16:16:27.473935240Z"
    },
    "colab": {
     "base_uri": "https://localhost:8080/"
    },
    "id": "6680ac57",
    "outputId": "766d0fff-0ddd-49ac-fcf2-4aad8aedd1d4"
   },
   "outputs": [],
   "source": [
    "ptltr = pyepo.func.pointwiseLTR(optmodel, processes=2, solve_ratio=0.05, dataset=dataset_train)"
   ]
  },
  {
   "cell_type": "markdown",
   "id": "03e921d1",
   "metadata": {
    "id": "03e921d1"
   },
   "source": [
    "##### Training"
   ]
  },
  {
   "cell_type": "markdown",
   "id": "1c51f232",
   "metadata": {
    "id": "1c51f232"
   },
   "source": [
    "To compute learning-to-rank loss, ``ptltr`` requires $\\mathbf{\\hat{c}}$ and $\\mathbf{c}$."
   ]
  },
  {
   "cell_type": "code",
   "execution_count": null,
   "id": "543a0a05",
   "metadata": {
    "ExecuteTime": {
     "end_time": "2023-07-03T16:17:01.763318176Z",
     "start_time": "2023-07-03T16:16:32.516958317Z"
    },
    "colab": {
     "base_uri": "https://localhost:8080/"
    },
    "id": "543a0a05",
    "outputId": "0d18a14e-d464-4c81-a511-fae0dbdf54ee"
   },
   "outputs": [],
   "source": [
    "loss_log, loss_log_regret = trainModel(reg, loss_func=ptltr, method_name=\"ltr\", loader_train=loader_train)"
   ]
  },
  {
   "cell_type": "markdown",
   "id": "448f52a8-d395-4a99-b83a-45aa6e417d0b",
   "metadata": {},
   "source": [
    "#### 4.7.3-kNN Pointwise Learning To Rank"
   ]
  },
  {
   "cell_type": "code",
   "execution_count": null,
   "id": "05800d76-7888-4718-92d4-fd545d564182",
   "metadata": {},
   "outputs": [],
   "source": [
    "# re-init predictive model\n",
    "set_random_seeds()\n",
    "reg = LinearRegression()\n",
    "# cuda\n",
    "if torch.cuda.is_available():\n",
    "    reg = reg.cuda()"
   ]
  },
  {
   "cell_type": "markdown",
   "id": "fcb86ada-c0b9-48f0-8f4e-0d6a500981a7",
   "metadata": {},
   "source": [
    "##### Train"
   ]
  },
  {
   "cell_type": "code",
   "execution_count": null,
   "id": "a48b896c-ff0b-4b17-ae90-a76a5f6f09a9",
   "metadata": {},
   "outputs": [],
   "source": [
    "loss_log_knn, loss_log_regret_knn = trainModel(reg, loss_func=ptltr, method_name=\"ltr\", loader_train=loader_train_knn)"
   ]
  },
  {
   "cell_type": "markdown",
   "id": "c6bc9a55",
   "metadata": {
    "id": "c6bc9a55"
   },
   "source": [
    "##### Learning Curve"
   ]
  },
  {
   "cell_type": "code",
   "execution_count": null,
   "id": "a36e3916",
   "metadata": {
    "id": "a36e3916"
   },
   "outputs": [],
   "source": [
    "visLearningCurve(loss_log, loss_log_regret, loss_log_knn, loss_log_regret_knn)"
   ]
  }
 ],
 "metadata": {
  "colab": {
   "provenance": []
  },
  "kernelspec": {
   "display_name": "Python 3 (ipykernel)",
   "language": "python",
   "name": "python3"
  },
  "language_info": {
   "codemirror_mode": {
    "name": "ipython",
    "version": 3
   },
   "file_extension": ".py",
   "mimetype": "text/x-python",
   "name": "python",
   "nbconvert_exporter": "python",
   "pygments_lexer": "ipython3",
   "version": "3.11.5"
  }
 },
 "nbformat": 4,
 "nbformat_minor": 5
}
